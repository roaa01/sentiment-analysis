{
  "cells": [
    {
      "cell_type": "code",
      "execution_count": null,
      "metadata": {
        "id": "mXG6zsge-6ju"
      },
      "outputs": [],
      "source": [
        "#importing the libararies\n",
        "import pandas as pd\n",
        "import numpy as np\n",
        "import matplotlib.pyplot as plt\n",
        "import seaborn as sns\n",
        "import re\n",
        "from nltk.corpus import stopwords\n",
        "from nltk.stem.porter import PorterStemmer\n",
        "from sklearn.feature_extraction.text import TfidfVectorizer\n",
        "from sklearn.naive_bayes import BernoulliNB\n",
        "from sklearn.metrics import confusion_matrix, classification_report\n",
        "from sklearn.feature_extraction.text import CountVectorizer\n",
        "from sklearn.linear_model import LogisticRegression\n",
        "from sklearn.metrics import classification_report, confusion_matrix\n",
        "from sklearn.datasets import load_iris\n",
        "from sklearn.model_selection import train_test_split\n",
        "from sklearn.svm import SVC\n",
        "from nltk.stem import WordNetLemmatizer\n",
        "from sklearn.metrics import accuracy_score"
      ]
    },
    {
      "cell_type": "code",
      "execution_count": null,
      "metadata": {
        "id": "Qn-WAv0vP6mq"
      },
      "outputs": [],
      "source": [
        "df= pd.read_csv('sentimentdataset.csv')"
      ]
    },
    {
      "cell_type": "code",
      "execution_count": null,
      "metadata": {
        "colab": {
          "base_uri": "https://localhost:8080/",
          "height": 678
        },
        "id": "ZOwy3oUOQe1_",
        "outputId": "4028adfe-bff9-4612-a6fb-19a902fa26bf"
      },
      "outputs": [
        {
          "output_type": "execute_result",
          "data": {
            "text/plain": [
              "   ID                                               Text Sentiment (Label)  \\\n",
              "0   0   Enjoying a beautiful day at the park!        ...        Positive     \n",
              "1   1   Traffic was terrible this morning.           ...        Negative     \n",
              "2   2   Just finished an amazing workout! 💪          ...        Positive     \n",
              "3   3   Excited about the upcoming weekend getaway!  ...        Positive     \n",
              "4   4   Trying out a new recipe for dinner tonight.  ...        Neutral      \n",
              "\n",
              "         Timestamp            User       Source  \\\n",
              "0  1/15/2023 12:30   User123          Twitter     \n",
              "1   1/15/2023 8:45   CommuterX        Twitter     \n",
              "2  1/15/2023 15:45   FitnessFan      Instagram    \n",
              "3  1/15/2023 18:20   AdventureX       Facebook    \n",
              "4  1/15/2023 19:55   ChefCook        Instagram    \n",
              "\n",
              "                                        Topic  Retweets  Likes       Country  \\\n",
              "0   #Nature #Park                                    15     30     USA         \n",
              "1   #Traffic #Morning                                 5     10     Canada      \n",
              "2   #Fitness #Workout                                20     40   USA           \n",
              "3   #Travel #Adventure                                8     15     UK          \n",
              "4   #Cooking #Food                                   12     25    Australia    \n",
              "\n",
              "   Year  Month  Day  Hour  \n",
              "0  2023      1   15    12  \n",
              "1  2023      1   15     8  \n",
              "2  2023      1   15    15  \n",
              "3  2023      1   15    18  \n",
              "4  2023      1   15    19  "
            ],
            "text/html": [
              "\n",
              "  <div id=\"df-7f2da351-0c05-4413-a7ae-7102863cf315\" class=\"colab-df-container\">\n",
              "    <div>\n",
              "<style scoped>\n",
              "    .dataframe tbody tr th:only-of-type {\n",
              "        vertical-align: middle;\n",
              "    }\n",
              "\n",
              "    .dataframe tbody tr th {\n",
              "        vertical-align: top;\n",
              "    }\n",
              "\n",
              "    .dataframe thead th {\n",
              "        text-align: right;\n",
              "    }\n",
              "</style>\n",
              "<table border=\"1\" class=\"dataframe\">\n",
              "  <thead>\n",
              "    <tr style=\"text-align: right;\">\n",
              "      <th></th>\n",
              "      <th>ID</th>\n",
              "      <th>Text</th>\n",
              "      <th>Sentiment (Label)</th>\n",
              "      <th>Timestamp</th>\n",
              "      <th>User</th>\n",
              "      <th>Source</th>\n",
              "      <th>Topic</th>\n",
              "      <th>Retweets</th>\n",
              "      <th>Likes</th>\n",
              "      <th>Country</th>\n",
              "      <th>Year</th>\n",
              "      <th>Month</th>\n",
              "      <th>Day</th>\n",
              "      <th>Hour</th>\n",
              "    </tr>\n",
              "  </thead>\n",
              "  <tbody>\n",
              "    <tr>\n",
              "      <th>0</th>\n",
              "      <td>0</td>\n",
              "      <td>Enjoying a beautiful day at the park!        ...</td>\n",
              "      <td>Positive</td>\n",
              "      <td>1/15/2023 12:30</td>\n",
              "      <td>User123</td>\n",
              "      <td>Twitter</td>\n",
              "      <td>#Nature #Park</td>\n",
              "      <td>15</td>\n",
              "      <td>30</td>\n",
              "      <td>USA</td>\n",
              "      <td>2023</td>\n",
              "      <td>1</td>\n",
              "      <td>15</td>\n",
              "      <td>12</td>\n",
              "    </tr>\n",
              "    <tr>\n",
              "      <th>1</th>\n",
              "      <td>1</td>\n",
              "      <td>Traffic was terrible this morning.           ...</td>\n",
              "      <td>Negative</td>\n",
              "      <td>1/15/2023 8:45</td>\n",
              "      <td>CommuterX</td>\n",
              "      <td>Twitter</td>\n",
              "      <td>#Traffic #Morning</td>\n",
              "      <td>5</td>\n",
              "      <td>10</td>\n",
              "      <td>Canada</td>\n",
              "      <td>2023</td>\n",
              "      <td>1</td>\n",
              "      <td>15</td>\n",
              "      <td>8</td>\n",
              "    </tr>\n",
              "    <tr>\n",
              "      <th>2</th>\n",
              "      <td>2</td>\n",
              "      <td>Just finished an amazing workout! 💪          ...</td>\n",
              "      <td>Positive</td>\n",
              "      <td>1/15/2023 15:45</td>\n",
              "      <td>FitnessFan</td>\n",
              "      <td>Instagram</td>\n",
              "      <td>#Fitness #Workout</td>\n",
              "      <td>20</td>\n",
              "      <td>40</td>\n",
              "      <td>USA</td>\n",
              "      <td>2023</td>\n",
              "      <td>1</td>\n",
              "      <td>15</td>\n",
              "      <td>15</td>\n",
              "    </tr>\n",
              "    <tr>\n",
              "      <th>3</th>\n",
              "      <td>3</td>\n",
              "      <td>Excited about the upcoming weekend getaway!  ...</td>\n",
              "      <td>Positive</td>\n",
              "      <td>1/15/2023 18:20</td>\n",
              "      <td>AdventureX</td>\n",
              "      <td>Facebook</td>\n",
              "      <td>#Travel #Adventure</td>\n",
              "      <td>8</td>\n",
              "      <td>15</td>\n",
              "      <td>UK</td>\n",
              "      <td>2023</td>\n",
              "      <td>1</td>\n",
              "      <td>15</td>\n",
              "      <td>18</td>\n",
              "    </tr>\n",
              "    <tr>\n",
              "      <th>4</th>\n",
              "      <td>4</td>\n",
              "      <td>Trying out a new recipe for dinner tonight.  ...</td>\n",
              "      <td>Neutral</td>\n",
              "      <td>1/15/2023 19:55</td>\n",
              "      <td>ChefCook</td>\n",
              "      <td>Instagram</td>\n",
              "      <td>#Cooking #Food</td>\n",
              "      <td>12</td>\n",
              "      <td>25</td>\n",
              "      <td>Australia</td>\n",
              "      <td>2023</td>\n",
              "      <td>1</td>\n",
              "      <td>15</td>\n",
              "      <td>19</td>\n",
              "    </tr>\n",
              "  </tbody>\n",
              "</table>\n",
              "</div>\n",
              "    <div class=\"colab-df-buttons\">\n",
              "\n",
              "  <div class=\"colab-df-container\">\n",
              "    <button class=\"colab-df-convert\" onclick=\"convertToInteractive('df-7f2da351-0c05-4413-a7ae-7102863cf315')\"\n",
              "            title=\"Convert this dataframe to an interactive table.\"\n",
              "            style=\"display:none;\">\n",
              "\n",
              "  <svg xmlns=\"http://www.w3.org/2000/svg\" height=\"24px\" viewBox=\"0 -960 960 960\">\n",
              "    <path d=\"M120-120v-720h720v720H120Zm60-500h600v-160H180v160Zm220 220h160v-160H400v160Zm0 220h160v-160H400v160ZM180-400h160v-160H180v160Zm440 0h160v-160H620v160ZM180-180h160v-160H180v160Zm440 0h160v-160H620v160Z\"/>\n",
              "  </svg>\n",
              "    </button>\n",
              "\n",
              "  <style>\n",
              "    .colab-df-container {\n",
              "      display:flex;\n",
              "      gap: 12px;\n",
              "    }\n",
              "\n",
              "    .colab-df-convert {\n",
              "      background-color: #E8F0FE;\n",
              "      border: none;\n",
              "      border-radius: 50%;\n",
              "      cursor: pointer;\n",
              "      display: none;\n",
              "      fill: #1967D2;\n",
              "      height: 32px;\n",
              "      padding: 0 0 0 0;\n",
              "      width: 32px;\n",
              "    }\n",
              "\n",
              "    .colab-df-convert:hover {\n",
              "      background-color: #E2EBFA;\n",
              "      box-shadow: 0px 1px 2px rgba(60, 64, 67, 0.3), 0px 1px 3px 1px rgba(60, 64, 67, 0.15);\n",
              "      fill: #174EA6;\n",
              "    }\n",
              "\n",
              "    .colab-df-buttons div {\n",
              "      margin-bottom: 4px;\n",
              "    }\n",
              "\n",
              "    [theme=dark] .colab-df-convert {\n",
              "      background-color: #3B4455;\n",
              "      fill: #D2E3FC;\n",
              "    }\n",
              "\n",
              "    [theme=dark] .colab-df-convert:hover {\n",
              "      background-color: #434B5C;\n",
              "      box-shadow: 0px 1px 3px 1px rgba(0, 0, 0, 0.15);\n",
              "      filter: drop-shadow(0px 1px 2px rgba(0, 0, 0, 0.3));\n",
              "      fill: #FFFFFF;\n",
              "    }\n",
              "  </style>\n",
              "\n",
              "    <script>\n",
              "      const buttonEl =\n",
              "        document.querySelector('#df-7f2da351-0c05-4413-a7ae-7102863cf315 button.colab-df-convert');\n",
              "      buttonEl.style.display =\n",
              "        google.colab.kernel.accessAllowed ? 'block' : 'none';\n",
              "\n",
              "      async function convertToInteractive(key) {\n",
              "        const element = document.querySelector('#df-7f2da351-0c05-4413-a7ae-7102863cf315');\n",
              "        const dataTable =\n",
              "          await google.colab.kernel.invokeFunction('convertToInteractive',\n",
              "                                                    [key], {});\n",
              "        if (!dataTable) return;\n",
              "\n",
              "        const docLinkHtml = 'Like what you see? Visit the ' +\n",
              "          '<a target=\"_blank\" href=https://colab.research.google.com/notebooks/data_table.ipynb>data table notebook</a>'\n",
              "          + ' to learn more about interactive tables.';\n",
              "        element.innerHTML = '';\n",
              "        dataTable['output_type'] = 'display_data';\n",
              "        await google.colab.output.renderOutput(dataTable, element);\n",
              "        const docLink = document.createElement('div');\n",
              "        docLink.innerHTML = docLinkHtml;\n",
              "        element.appendChild(docLink);\n",
              "      }\n",
              "    </script>\n",
              "  </div>\n",
              "\n",
              "\n",
              "<div id=\"df-9664000d-9e17-41a7-975e-9ccfefd68675\">\n",
              "  <button class=\"colab-df-quickchart\" onclick=\"quickchart('df-9664000d-9e17-41a7-975e-9ccfefd68675')\"\n",
              "            title=\"Suggest charts\"\n",
              "            style=\"display:none;\">\n",
              "\n",
              "<svg xmlns=\"http://www.w3.org/2000/svg\" height=\"24px\"viewBox=\"0 0 24 24\"\n",
              "     width=\"24px\">\n",
              "    <g>\n",
              "        <path d=\"M19 3H5c-1.1 0-2 .9-2 2v14c0 1.1.9 2 2 2h14c1.1 0 2-.9 2-2V5c0-1.1-.9-2-2-2zM9 17H7v-7h2v7zm4 0h-2V7h2v10zm4 0h-2v-4h2v4z\"/>\n",
              "    </g>\n",
              "</svg>\n",
              "  </button>\n",
              "\n",
              "<style>\n",
              "  .colab-df-quickchart {\n",
              "      --bg-color: #E8F0FE;\n",
              "      --fill-color: #1967D2;\n",
              "      --hover-bg-color: #E2EBFA;\n",
              "      --hover-fill-color: #174EA6;\n",
              "      --disabled-fill-color: #AAA;\n",
              "      --disabled-bg-color: #DDD;\n",
              "  }\n",
              "\n",
              "  [theme=dark] .colab-df-quickchart {\n",
              "      --bg-color: #3B4455;\n",
              "      --fill-color: #D2E3FC;\n",
              "      --hover-bg-color: #434B5C;\n",
              "      --hover-fill-color: #FFFFFF;\n",
              "      --disabled-bg-color: #3B4455;\n",
              "      --disabled-fill-color: #666;\n",
              "  }\n",
              "\n",
              "  .colab-df-quickchart {\n",
              "    background-color: var(--bg-color);\n",
              "    border: none;\n",
              "    border-radius: 50%;\n",
              "    cursor: pointer;\n",
              "    display: none;\n",
              "    fill: var(--fill-color);\n",
              "    height: 32px;\n",
              "    padding: 0;\n",
              "    width: 32px;\n",
              "  }\n",
              "\n",
              "  .colab-df-quickchart:hover {\n",
              "    background-color: var(--hover-bg-color);\n",
              "    box-shadow: 0 1px 2px rgba(60, 64, 67, 0.3), 0 1px 3px 1px rgba(60, 64, 67, 0.15);\n",
              "    fill: var(--button-hover-fill-color);\n",
              "  }\n",
              "\n",
              "  .colab-df-quickchart-complete:disabled,\n",
              "  .colab-df-quickchart-complete:disabled:hover {\n",
              "    background-color: var(--disabled-bg-color);\n",
              "    fill: var(--disabled-fill-color);\n",
              "    box-shadow: none;\n",
              "  }\n",
              "\n",
              "  .colab-df-spinner {\n",
              "    border: 2px solid var(--fill-color);\n",
              "    border-color: transparent;\n",
              "    border-bottom-color: var(--fill-color);\n",
              "    animation:\n",
              "      spin 1s steps(1) infinite;\n",
              "  }\n",
              "\n",
              "  @keyframes spin {\n",
              "    0% {\n",
              "      border-color: transparent;\n",
              "      border-bottom-color: var(--fill-color);\n",
              "      border-left-color: var(--fill-color);\n",
              "    }\n",
              "    20% {\n",
              "      border-color: transparent;\n",
              "      border-left-color: var(--fill-color);\n",
              "      border-top-color: var(--fill-color);\n",
              "    }\n",
              "    30% {\n",
              "      border-color: transparent;\n",
              "      border-left-color: var(--fill-color);\n",
              "      border-top-color: var(--fill-color);\n",
              "      border-right-color: var(--fill-color);\n",
              "    }\n",
              "    40% {\n",
              "      border-color: transparent;\n",
              "      border-right-color: var(--fill-color);\n",
              "      border-top-color: var(--fill-color);\n",
              "    }\n",
              "    60% {\n",
              "      border-color: transparent;\n",
              "      border-right-color: var(--fill-color);\n",
              "    }\n",
              "    80% {\n",
              "      border-color: transparent;\n",
              "      border-right-color: var(--fill-color);\n",
              "      border-bottom-color: var(--fill-color);\n",
              "    }\n",
              "    90% {\n",
              "      border-color: transparent;\n",
              "      border-bottom-color: var(--fill-color);\n",
              "    }\n",
              "  }\n",
              "</style>\n",
              "\n",
              "  <script>\n",
              "    async function quickchart(key) {\n",
              "      const quickchartButtonEl =\n",
              "        document.querySelector('#' + key + ' button');\n",
              "      quickchartButtonEl.disabled = true;  // To prevent multiple clicks.\n",
              "      quickchartButtonEl.classList.add('colab-df-spinner');\n",
              "      try {\n",
              "        const charts = await google.colab.kernel.invokeFunction(\n",
              "            'suggestCharts', [key], {});\n",
              "      } catch (error) {\n",
              "        console.error('Error during call to suggestCharts:', error);\n",
              "      }\n",
              "      quickchartButtonEl.classList.remove('colab-df-spinner');\n",
              "      quickchartButtonEl.classList.add('colab-df-quickchart-complete');\n",
              "    }\n",
              "    (() => {\n",
              "      let quickchartButtonEl =\n",
              "        document.querySelector('#df-9664000d-9e17-41a7-975e-9ccfefd68675 button');\n",
              "      quickchartButtonEl.style.display =\n",
              "        google.colab.kernel.accessAllowed ? 'block' : 'none';\n",
              "    })();\n",
              "  </script>\n",
              "</div>\n",
              "\n",
              "    </div>\n",
              "  </div>\n"
            ],
            "application/vnd.google.colaboratory.intrinsic+json": {
              "type": "dataframe",
              "variable_name": "df",
              "summary": "{\n  \"name\": \"df\",\n  \"rows\": 732,\n  \"fields\": [\n    {\n      \"column\": \"ID\",\n      \"properties\": {\n        \"dtype\": \"number\",\n        \"std\": 212,\n        \"min\": 0,\n        \"max\": 736,\n        \"num_unique_values\": 732,\n        \"samples\": [\n          609,\n          35,\n          305\n        ],\n        \"semantic_type\": \"\",\n        \"description\": \"\"\n      }\n    },\n    {\n      \"column\": \"Text\",\n      \"properties\": {\n        \"dtype\": \"string\",\n        \"num_unique_values\": 707,\n        \"samples\": [\n          \"Walking the Great Wall of China, each step a testament to ancient engineering marvels. \",\n          \" Laughter is the key to joy\\u2014attending a stand-up comedy show. \",\n          \" The fear of the unknown is keeping me up at night.    \"\n        ],\n        \"semantic_type\": \"\",\n        \"description\": \"\"\n      }\n    },\n    {\n      \"column\": \"Sentiment (Label)\",\n      \"properties\": {\n        \"dtype\": \"category\",\n        \"num_unique_values\": 279,\n        \"samples\": [\n          \" Elation       \",\n          \" Confidence    \",\n          \" Loss \"\n        ],\n        \"semantic_type\": \"\",\n        \"description\": \"\"\n      }\n    },\n    {\n      \"column\": \"Timestamp\",\n      \"properties\": {\n        \"dtype\": \"object\",\n        \"num_unique_values\": 683,\n        \"samples\": [\n          \"12/12/2019 17:00\",\n          \"3/10/2018 9:45\",\n          \"1/5/2022 10:30\"\n        ],\n        \"semantic_type\": \"\",\n        \"description\": \"\"\n      }\n    },\n    {\n      \"column\": \"User\",\n      \"properties\": {\n        \"dtype\": \"string\",\n        \"num_unique_values\": 685,\n        \"samples\": [\n          \" VenomousHeart \",\n          \" GamingEnthusiast \",\n          \" DreamChaser       \"\n        ],\n        \"semantic_type\": \"\",\n        \"description\": \"\"\n      }\n    },\n    {\n      \"column\": \"Source\",\n      \"properties\": {\n        \"dtype\": \"category\",\n        \"num_unique_values\": 4,\n        \"samples\": [\n          \" Instagram \",\n          \" Twitter \",\n          \" Twitter  \"\n        ],\n        \"semantic_type\": \"\",\n        \"description\": \"\"\n      }\n    },\n    {\n      \"column\": \"Topic\",\n      \"properties\": {\n        \"dtype\": \"string\",\n        \"num_unique_values\": 697,\n        \"samples\": [\n          \" #Fulfillment #PuzzleChallenge                \",\n          \" #Nostalgia #ClassicFilmMoments \",\n          \" #Isolation #EmotionalWinter            \"\n        ],\n        \"semantic_type\": \"\",\n        \"description\": \"\"\n      }\n    },\n    {\n      \"column\": \"Retweets\",\n      \"properties\": {\n        \"dtype\": \"number\",\n        \"std\": 7,\n        \"min\": 5,\n        \"max\": 40,\n        \"num_unique_values\": 26,\n        \"samples\": [\n          18,\n          17,\n          15\n        ],\n        \"semantic_type\": \"\",\n        \"description\": \"\"\n      }\n    },\n    {\n      \"column\": \"Likes\",\n      \"properties\": {\n        \"dtype\": \"number\",\n        \"std\": 14,\n        \"min\": 10,\n        \"max\": 80,\n        \"num_unique_values\": 38,\n        \"samples\": [\n          31,\n          51,\n          25\n        ],\n        \"semantic_type\": \"\",\n        \"description\": \"\"\n      }\n    },\n    {\n      \"column\": \"Country\",\n      \"properties\": {\n        \"dtype\": \"category\",\n        \"num_unique_values\": 115,\n        \"samples\": [\n          \" France         \",\n          \" Australia \",\n          \" India         \"\n        ],\n        \"semantic_type\": \"\",\n        \"description\": \"\"\n      }\n    },\n    {\n      \"column\": \"Year\",\n      \"properties\": {\n        \"dtype\": \"number\",\n        \"std\": 2,\n        \"min\": 2010,\n        \"max\": 2023,\n        \"num_unique_values\": 14,\n        \"samples\": [\n          2016,\n          2018,\n          2023\n        ],\n        \"semantic_type\": \"\",\n        \"description\": \"\"\n      }\n    },\n    {\n      \"column\": \"Month\",\n      \"properties\": {\n        \"dtype\": \"number\",\n        \"std\": 3,\n        \"min\": 1,\n        \"max\": 12,\n        \"num_unique_values\": 12,\n        \"samples\": [\n          10,\n          7,\n          1\n        ],\n        \"semantic_type\": \"\",\n        \"description\": \"\"\n      }\n    },\n    {\n      \"column\": \"Day\",\n      \"properties\": {\n        \"dtype\": \"number\",\n        \"std\": 8,\n        \"min\": 1,\n        \"max\": 31,\n        \"num_unique_values\": 31,\n        \"samples\": [\n          7,\n          30,\n          3\n        ],\n        \"semantic_type\": \"\",\n        \"description\": \"\"\n      }\n    },\n    {\n      \"column\": \"Hour\",\n      \"properties\": {\n        \"dtype\": \"number\",\n        \"std\": 4,\n        \"min\": 0,\n        \"max\": 23,\n        \"num_unique_values\": 22,\n        \"samples\": [\n          12,\n          20,\n          13\n        ],\n        \"semantic_type\": \"\",\n        \"description\": \"\"\n      }\n    }\n  ]\n}"
            }
          },
          "metadata": {},
          "execution_count": 3
        }
      ],
      "source": [
        "df.head(5)"
      ]
    },
    {
      "cell_type": "code",
      "execution_count": null,
      "metadata": {
        "colab": {
          "background_save": true,
          "base_uri": "https://localhost:8080/"
        },
        "id": "ZiaNqRBdWSxG",
        "outputId": "14bf2e6a-c6bf-4bc9-df0b-bc27eb6f5b89"
      },
      "outputs": [
        {
          "data": {
            "text/plain": [
              "279"
            ]
          },
          "execution_count": 4,
          "metadata": {},
          "output_type": "execute_result"
        }
      ],
      "source": [
        "df['Sentiment (Label)'].nunique()"
      ]
    },
    {
      "cell_type": "code",
      "execution_count": null,
      "metadata": {
        "colab": {
          "base_uri": "https://localhost:8080/"
        },
        "id": "2mQqN_LaW5fd",
        "outputId": "96a11771-51e5-4010-cea9-d2cc5d4bc544"
      },
      "outputs": [
        {
          "output_type": "execute_result",
          "data": {
            "text/plain": [
              "4"
            ]
          },
          "metadata": {},
          "execution_count": 4
        }
      ],
      "source": [
        "df['Source'].nunique()"
      ]
    },
    {
      "cell_type": "code",
      "execution_count": null,
      "metadata": {
        "id": "CeG7FCJT0Uzk"
      },
      "outputs": [],
      "source": [
        "df.drop(columns=['ID','User'],inplace= True)"
      ]
    },
    {
      "cell_type": "code",
      "execution_count": null,
      "metadata": {
        "colab": {
          "base_uri": "https://localhost:8080/",
          "height": 678
        },
        "id": "EbeIwzNUoNfq",
        "outputId": "7870edc0-f8b5-4fc3-863f-16744acac011"
      },
      "outputs": [
        {
          "output_type": "execute_result",
          "data": {
            "text/plain": [
              "                                                Text Sentiment (Label)  \\\n",
              "0   Enjoying a beautiful day at the park!        ...        Positive     \n",
              "1   Traffic was terrible this morning.           ...        Negative     \n",
              "2   Just finished an amazing workout! 💪          ...        Positive     \n",
              "3   Excited about the upcoming weekend getaway!  ...        Positive     \n",
              "4   Trying out a new recipe for dinner tonight.  ...        Neutral      \n",
              "\n",
              "         Timestamp       Source                                       Topic  \\\n",
              "0  1/15/2023 12:30    Twitter     #Nature #Park                               \n",
              "1   1/15/2023 8:45    Twitter     #Traffic #Morning                           \n",
              "2  1/15/2023 15:45   Instagram    #Fitness #Workout                           \n",
              "3  1/15/2023 18:20    Facebook    #Travel #Adventure                          \n",
              "4  1/15/2023 19:55   Instagram    #Cooking #Food                              \n",
              "\n",
              "   Retweets  Likes       Country  Year  Month  Day  Hour  \n",
              "0        15     30     USA        2023      1   15    12  \n",
              "1         5     10     Canada     2023      1   15     8  \n",
              "2        20     40   USA          2023      1   15    15  \n",
              "3         8     15     UK         2023      1   15    18  \n",
              "4        12     25    Australia   2023      1   15    19  "
            ],
            "text/html": [
              "\n",
              "  <div id=\"df-d291d7a2-8cba-4a12-9e2c-258aca9460c8\" class=\"colab-df-container\">\n",
              "    <div>\n",
              "<style scoped>\n",
              "    .dataframe tbody tr th:only-of-type {\n",
              "        vertical-align: middle;\n",
              "    }\n",
              "\n",
              "    .dataframe tbody tr th {\n",
              "        vertical-align: top;\n",
              "    }\n",
              "\n",
              "    .dataframe thead th {\n",
              "        text-align: right;\n",
              "    }\n",
              "</style>\n",
              "<table border=\"1\" class=\"dataframe\">\n",
              "  <thead>\n",
              "    <tr style=\"text-align: right;\">\n",
              "      <th></th>\n",
              "      <th>Text</th>\n",
              "      <th>Sentiment (Label)</th>\n",
              "      <th>Timestamp</th>\n",
              "      <th>Source</th>\n",
              "      <th>Topic</th>\n",
              "      <th>Retweets</th>\n",
              "      <th>Likes</th>\n",
              "      <th>Country</th>\n",
              "      <th>Year</th>\n",
              "      <th>Month</th>\n",
              "      <th>Day</th>\n",
              "      <th>Hour</th>\n",
              "    </tr>\n",
              "  </thead>\n",
              "  <tbody>\n",
              "    <tr>\n",
              "      <th>0</th>\n",
              "      <td>Enjoying a beautiful day at the park!        ...</td>\n",
              "      <td>Positive</td>\n",
              "      <td>1/15/2023 12:30</td>\n",
              "      <td>Twitter</td>\n",
              "      <td>#Nature #Park</td>\n",
              "      <td>15</td>\n",
              "      <td>30</td>\n",
              "      <td>USA</td>\n",
              "      <td>2023</td>\n",
              "      <td>1</td>\n",
              "      <td>15</td>\n",
              "      <td>12</td>\n",
              "    </tr>\n",
              "    <tr>\n",
              "      <th>1</th>\n",
              "      <td>Traffic was terrible this morning.           ...</td>\n",
              "      <td>Negative</td>\n",
              "      <td>1/15/2023 8:45</td>\n",
              "      <td>Twitter</td>\n",
              "      <td>#Traffic #Morning</td>\n",
              "      <td>5</td>\n",
              "      <td>10</td>\n",
              "      <td>Canada</td>\n",
              "      <td>2023</td>\n",
              "      <td>1</td>\n",
              "      <td>15</td>\n",
              "      <td>8</td>\n",
              "    </tr>\n",
              "    <tr>\n",
              "      <th>2</th>\n",
              "      <td>Just finished an amazing workout! 💪          ...</td>\n",
              "      <td>Positive</td>\n",
              "      <td>1/15/2023 15:45</td>\n",
              "      <td>Instagram</td>\n",
              "      <td>#Fitness #Workout</td>\n",
              "      <td>20</td>\n",
              "      <td>40</td>\n",
              "      <td>USA</td>\n",
              "      <td>2023</td>\n",
              "      <td>1</td>\n",
              "      <td>15</td>\n",
              "      <td>15</td>\n",
              "    </tr>\n",
              "    <tr>\n",
              "      <th>3</th>\n",
              "      <td>Excited about the upcoming weekend getaway!  ...</td>\n",
              "      <td>Positive</td>\n",
              "      <td>1/15/2023 18:20</td>\n",
              "      <td>Facebook</td>\n",
              "      <td>#Travel #Adventure</td>\n",
              "      <td>8</td>\n",
              "      <td>15</td>\n",
              "      <td>UK</td>\n",
              "      <td>2023</td>\n",
              "      <td>1</td>\n",
              "      <td>15</td>\n",
              "      <td>18</td>\n",
              "    </tr>\n",
              "    <tr>\n",
              "      <th>4</th>\n",
              "      <td>Trying out a new recipe for dinner tonight.  ...</td>\n",
              "      <td>Neutral</td>\n",
              "      <td>1/15/2023 19:55</td>\n",
              "      <td>Instagram</td>\n",
              "      <td>#Cooking #Food</td>\n",
              "      <td>12</td>\n",
              "      <td>25</td>\n",
              "      <td>Australia</td>\n",
              "      <td>2023</td>\n",
              "      <td>1</td>\n",
              "      <td>15</td>\n",
              "      <td>19</td>\n",
              "    </tr>\n",
              "  </tbody>\n",
              "</table>\n",
              "</div>\n",
              "    <div class=\"colab-df-buttons\">\n",
              "\n",
              "  <div class=\"colab-df-container\">\n",
              "    <button class=\"colab-df-convert\" onclick=\"convertToInteractive('df-d291d7a2-8cba-4a12-9e2c-258aca9460c8')\"\n",
              "            title=\"Convert this dataframe to an interactive table.\"\n",
              "            style=\"display:none;\">\n",
              "\n",
              "  <svg xmlns=\"http://www.w3.org/2000/svg\" height=\"24px\" viewBox=\"0 -960 960 960\">\n",
              "    <path d=\"M120-120v-720h720v720H120Zm60-500h600v-160H180v160Zm220 220h160v-160H400v160Zm0 220h160v-160H400v160ZM180-400h160v-160H180v160Zm440 0h160v-160H620v160ZM180-180h160v-160H180v160Zm440 0h160v-160H620v160Z\"/>\n",
              "  </svg>\n",
              "    </button>\n",
              "\n",
              "  <style>\n",
              "    .colab-df-container {\n",
              "      display:flex;\n",
              "      gap: 12px;\n",
              "    }\n",
              "\n",
              "    .colab-df-convert {\n",
              "      background-color: #E8F0FE;\n",
              "      border: none;\n",
              "      border-radius: 50%;\n",
              "      cursor: pointer;\n",
              "      display: none;\n",
              "      fill: #1967D2;\n",
              "      height: 32px;\n",
              "      padding: 0 0 0 0;\n",
              "      width: 32px;\n",
              "    }\n",
              "\n",
              "    .colab-df-convert:hover {\n",
              "      background-color: #E2EBFA;\n",
              "      box-shadow: 0px 1px 2px rgba(60, 64, 67, 0.3), 0px 1px 3px 1px rgba(60, 64, 67, 0.15);\n",
              "      fill: #174EA6;\n",
              "    }\n",
              "\n",
              "    .colab-df-buttons div {\n",
              "      margin-bottom: 4px;\n",
              "    }\n",
              "\n",
              "    [theme=dark] .colab-df-convert {\n",
              "      background-color: #3B4455;\n",
              "      fill: #D2E3FC;\n",
              "    }\n",
              "\n",
              "    [theme=dark] .colab-df-convert:hover {\n",
              "      background-color: #434B5C;\n",
              "      box-shadow: 0px 1px 3px 1px rgba(0, 0, 0, 0.15);\n",
              "      filter: drop-shadow(0px 1px 2px rgba(0, 0, 0, 0.3));\n",
              "      fill: #FFFFFF;\n",
              "    }\n",
              "  </style>\n",
              "\n",
              "    <script>\n",
              "      const buttonEl =\n",
              "        document.querySelector('#df-d291d7a2-8cba-4a12-9e2c-258aca9460c8 button.colab-df-convert');\n",
              "      buttonEl.style.display =\n",
              "        google.colab.kernel.accessAllowed ? 'block' : 'none';\n",
              "\n",
              "      async function convertToInteractive(key) {\n",
              "        const element = document.querySelector('#df-d291d7a2-8cba-4a12-9e2c-258aca9460c8');\n",
              "        const dataTable =\n",
              "          await google.colab.kernel.invokeFunction('convertToInteractive',\n",
              "                                                    [key], {});\n",
              "        if (!dataTable) return;\n",
              "\n",
              "        const docLinkHtml = 'Like what you see? Visit the ' +\n",
              "          '<a target=\"_blank\" href=https://colab.research.google.com/notebooks/data_table.ipynb>data table notebook</a>'\n",
              "          + ' to learn more about interactive tables.';\n",
              "        element.innerHTML = '';\n",
              "        dataTable['output_type'] = 'display_data';\n",
              "        await google.colab.output.renderOutput(dataTable, element);\n",
              "        const docLink = document.createElement('div');\n",
              "        docLink.innerHTML = docLinkHtml;\n",
              "        element.appendChild(docLink);\n",
              "      }\n",
              "    </script>\n",
              "  </div>\n",
              "\n",
              "\n",
              "<div id=\"df-a7d71f4b-85ca-4c16-bb1d-f4dd460b6c6d\">\n",
              "  <button class=\"colab-df-quickchart\" onclick=\"quickchart('df-a7d71f4b-85ca-4c16-bb1d-f4dd460b6c6d')\"\n",
              "            title=\"Suggest charts\"\n",
              "            style=\"display:none;\">\n",
              "\n",
              "<svg xmlns=\"http://www.w3.org/2000/svg\" height=\"24px\"viewBox=\"0 0 24 24\"\n",
              "     width=\"24px\">\n",
              "    <g>\n",
              "        <path d=\"M19 3H5c-1.1 0-2 .9-2 2v14c0 1.1.9 2 2 2h14c1.1 0 2-.9 2-2V5c0-1.1-.9-2-2-2zM9 17H7v-7h2v7zm4 0h-2V7h2v10zm4 0h-2v-4h2v4z\"/>\n",
              "    </g>\n",
              "</svg>\n",
              "  </button>\n",
              "\n",
              "<style>\n",
              "  .colab-df-quickchart {\n",
              "      --bg-color: #E8F0FE;\n",
              "      --fill-color: #1967D2;\n",
              "      --hover-bg-color: #E2EBFA;\n",
              "      --hover-fill-color: #174EA6;\n",
              "      --disabled-fill-color: #AAA;\n",
              "      --disabled-bg-color: #DDD;\n",
              "  }\n",
              "\n",
              "  [theme=dark] .colab-df-quickchart {\n",
              "      --bg-color: #3B4455;\n",
              "      --fill-color: #D2E3FC;\n",
              "      --hover-bg-color: #434B5C;\n",
              "      --hover-fill-color: #FFFFFF;\n",
              "      --disabled-bg-color: #3B4455;\n",
              "      --disabled-fill-color: #666;\n",
              "  }\n",
              "\n",
              "  .colab-df-quickchart {\n",
              "    background-color: var(--bg-color);\n",
              "    border: none;\n",
              "    border-radius: 50%;\n",
              "    cursor: pointer;\n",
              "    display: none;\n",
              "    fill: var(--fill-color);\n",
              "    height: 32px;\n",
              "    padding: 0;\n",
              "    width: 32px;\n",
              "  }\n",
              "\n",
              "  .colab-df-quickchart:hover {\n",
              "    background-color: var(--hover-bg-color);\n",
              "    box-shadow: 0 1px 2px rgba(60, 64, 67, 0.3), 0 1px 3px 1px rgba(60, 64, 67, 0.15);\n",
              "    fill: var(--button-hover-fill-color);\n",
              "  }\n",
              "\n",
              "  .colab-df-quickchart-complete:disabled,\n",
              "  .colab-df-quickchart-complete:disabled:hover {\n",
              "    background-color: var(--disabled-bg-color);\n",
              "    fill: var(--disabled-fill-color);\n",
              "    box-shadow: none;\n",
              "  }\n",
              "\n",
              "  .colab-df-spinner {\n",
              "    border: 2px solid var(--fill-color);\n",
              "    border-color: transparent;\n",
              "    border-bottom-color: var(--fill-color);\n",
              "    animation:\n",
              "      spin 1s steps(1) infinite;\n",
              "  }\n",
              "\n",
              "  @keyframes spin {\n",
              "    0% {\n",
              "      border-color: transparent;\n",
              "      border-bottom-color: var(--fill-color);\n",
              "      border-left-color: var(--fill-color);\n",
              "    }\n",
              "    20% {\n",
              "      border-color: transparent;\n",
              "      border-left-color: var(--fill-color);\n",
              "      border-top-color: var(--fill-color);\n",
              "    }\n",
              "    30% {\n",
              "      border-color: transparent;\n",
              "      border-left-color: var(--fill-color);\n",
              "      border-top-color: var(--fill-color);\n",
              "      border-right-color: var(--fill-color);\n",
              "    }\n",
              "    40% {\n",
              "      border-color: transparent;\n",
              "      border-right-color: var(--fill-color);\n",
              "      border-top-color: var(--fill-color);\n",
              "    }\n",
              "    60% {\n",
              "      border-color: transparent;\n",
              "      border-right-color: var(--fill-color);\n",
              "    }\n",
              "    80% {\n",
              "      border-color: transparent;\n",
              "      border-right-color: var(--fill-color);\n",
              "      border-bottom-color: var(--fill-color);\n",
              "    }\n",
              "    90% {\n",
              "      border-color: transparent;\n",
              "      border-bottom-color: var(--fill-color);\n",
              "    }\n",
              "  }\n",
              "</style>\n",
              "\n",
              "  <script>\n",
              "    async function quickchart(key) {\n",
              "      const quickchartButtonEl =\n",
              "        document.querySelector('#' + key + ' button');\n",
              "      quickchartButtonEl.disabled = true;  // To prevent multiple clicks.\n",
              "      quickchartButtonEl.classList.add('colab-df-spinner');\n",
              "      try {\n",
              "        const charts = await google.colab.kernel.invokeFunction(\n",
              "            'suggestCharts', [key], {});\n",
              "      } catch (error) {\n",
              "        console.error('Error during call to suggestCharts:', error);\n",
              "      }\n",
              "      quickchartButtonEl.classList.remove('colab-df-spinner');\n",
              "      quickchartButtonEl.classList.add('colab-df-quickchart-complete');\n",
              "    }\n",
              "    (() => {\n",
              "      let quickchartButtonEl =\n",
              "        document.querySelector('#df-a7d71f4b-85ca-4c16-bb1d-f4dd460b6c6d button');\n",
              "      quickchartButtonEl.style.display =\n",
              "        google.colab.kernel.accessAllowed ? 'block' : 'none';\n",
              "    })();\n",
              "  </script>\n",
              "</div>\n",
              "\n",
              "    </div>\n",
              "  </div>\n"
            ],
            "application/vnd.google.colaboratory.intrinsic+json": {
              "type": "dataframe",
              "variable_name": "df",
              "summary": "{\n  \"name\": \"df\",\n  \"rows\": 732,\n  \"fields\": [\n    {\n      \"column\": \"Text\",\n      \"properties\": {\n        \"dtype\": \"string\",\n        \"num_unique_values\": 707,\n        \"samples\": [\n          \"Walking the Great Wall of China, each step a testament to ancient engineering marvels. \",\n          \" Laughter is the key to joy\\u2014attending a stand-up comedy show. \",\n          \" The fear of the unknown is keeping me up at night.    \"\n        ],\n        \"semantic_type\": \"\",\n        \"description\": \"\"\n      }\n    },\n    {\n      \"column\": \"Sentiment (Label)\",\n      \"properties\": {\n        \"dtype\": \"category\",\n        \"num_unique_values\": 279,\n        \"samples\": [\n          \" Elation       \",\n          \" Confidence    \",\n          \" Loss \"\n        ],\n        \"semantic_type\": \"\",\n        \"description\": \"\"\n      }\n    },\n    {\n      \"column\": \"Timestamp\",\n      \"properties\": {\n        \"dtype\": \"object\",\n        \"num_unique_values\": 683,\n        \"samples\": [\n          \"12/12/2019 17:00\",\n          \"3/10/2018 9:45\",\n          \"1/5/2022 10:30\"\n        ],\n        \"semantic_type\": \"\",\n        \"description\": \"\"\n      }\n    },\n    {\n      \"column\": \"Source\",\n      \"properties\": {\n        \"dtype\": \"category\",\n        \"num_unique_values\": 4,\n        \"samples\": [\n          \" Instagram \",\n          \" Twitter \",\n          \" Twitter  \"\n        ],\n        \"semantic_type\": \"\",\n        \"description\": \"\"\n      }\n    },\n    {\n      \"column\": \"Topic\",\n      \"properties\": {\n        \"dtype\": \"string\",\n        \"num_unique_values\": 697,\n        \"samples\": [\n          \" #Fulfillment #PuzzleChallenge                \",\n          \" #Nostalgia #ClassicFilmMoments \",\n          \" #Isolation #EmotionalWinter            \"\n        ],\n        \"semantic_type\": \"\",\n        \"description\": \"\"\n      }\n    },\n    {\n      \"column\": \"Retweets\",\n      \"properties\": {\n        \"dtype\": \"number\",\n        \"std\": 7,\n        \"min\": 5,\n        \"max\": 40,\n        \"num_unique_values\": 26,\n        \"samples\": [\n          18,\n          17,\n          15\n        ],\n        \"semantic_type\": \"\",\n        \"description\": \"\"\n      }\n    },\n    {\n      \"column\": \"Likes\",\n      \"properties\": {\n        \"dtype\": \"number\",\n        \"std\": 14,\n        \"min\": 10,\n        \"max\": 80,\n        \"num_unique_values\": 38,\n        \"samples\": [\n          31,\n          51,\n          25\n        ],\n        \"semantic_type\": \"\",\n        \"description\": \"\"\n      }\n    },\n    {\n      \"column\": \"Country\",\n      \"properties\": {\n        \"dtype\": \"category\",\n        \"num_unique_values\": 115,\n        \"samples\": [\n          \" France         \",\n          \" Australia \",\n          \" India         \"\n        ],\n        \"semantic_type\": \"\",\n        \"description\": \"\"\n      }\n    },\n    {\n      \"column\": \"Year\",\n      \"properties\": {\n        \"dtype\": \"number\",\n        \"std\": 2,\n        \"min\": 2010,\n        \"max\": 2023,\n        \"num_unique_values\": 14,\n        \"samples\": [\n          2016,\n          2018,\n          2023\n        ],\n        \"semantic_type\": \"\",\n        \"description\": \"\"\n      }\n    },\n    {\n      \"column\": \"Month\",\n      \"properties\": {\n        \"dtype\": \"number\",\n        \"std\": 3,\n        \"min\": 1,\n        \"max\": 12,\n        \"num_unique_values\": 12,\n        \"samples\": [\n          10,\n          7,\n          1\n        ],\n        \"semantic_type\": \"\",\n        \"description\": \"\"\n      }\n    },\n    {\n      \"column\": \"Day\",\n      \"properties\": {\n        \"dtype\": \"number\",\n        \"std\": 8,\n        \"min\": 1,\n        \"max\": 31,\n        \"num_unique_values\": 31,\n        \"samples\": [\n          7,\n          30,\n          3\n        ],\n        \"semantic_type\": \"\",\n        \"description\": \"\"\n      }\n    },\n    {\n      \"column\": \"Hour\",\n      \"properties\": {\n        \"dtype\": \"number\",\n        \"std\": 4,\n        \"min\": 0,\n        \"max\": 23,\n        \"num_unique_values\": 22,\n        \"samples\": [\n          12,\n          20,\n          13\n        ],\n        \"semantic_type\": \"\",\n        \"description\": \"\"\n      }\n    }\n  ]\n}"
            }
          },
          "metadata": {},
          "execution_count": 6
        }
      ],
      "source": [
        "df.head(5)"
      ]
    },
    {
      "cell_type": "code",
      "execution_count": null,
      "metadata": {
        "colab": {
          "base_uri": "https://localhost:8080/"
        },
        "id": "kTNWPXJn0aBF",
        "outputId": "d4aa5a6d-6ce3-46f6-8fff-599d24a8216d"
      },
      "outputs": [
        {
          "output_type": "stream",
          "name": "stdout",
          "text": [
            "Collecting vaderSentiment\n",
            "  Downloading vaderSentiment-3.3.2-py2.py3-none-any.whl (125 kB)\n",
            "\u001b[2K     \u001b[90m━━━━━━━━━━━━━━━━━━━━━━━━━━━━━━━━━━━━━━━━\u001b[0m \u001b[32m126.0/126.0 kB\u001b[0m \u001b[31m987.2 kB/s\u001b[0m eta \u001b[36m0:00:00\u001b[0m\n",
            "\u001b[?25hRequirement already satisfied: requests in /usr/local/lib/python3.10/dist-packages (from vaderSentiment) (2.31.0)\n",
            "Requirement already satisfied: charset-normalizer<4,>=2 in /usr/local/lib/python3.10/dist-packages (from requests->vaderSentiment) (3.3.2)\n",
            "Requirement already satisfied: idna<4,>=2.5 in /usr/local/lib/python3.10/dist-packages (from requests->vaderSentiment) (3.7)\n",
            "Requirement already satisfied: urllib3<3,>=1.21.1 in /usr/local/lib/python3.10/dist-packages (from requests->vaderSentiment) (2.0.7)\n",
            "Requirement already satisfied: certifi>=2017.4.17 in /usr/local/lib/python3.10/dist-packages (from requests->vaderSentiment) (2024.2.2)\n",
            "Installing collected packages: vaderSentiment\n",
            "Successfully installed vaderSentiment-3.3.2\n"
          ]
        }
      ],
      "source": [
        "!pip install vaderSentiment"
      ]
    },
    {
      "cell_type": "markdown",
      "metadata": {
        "id": "2eSepOBNp0QY"
      },
      "source": [
        "## **Sentiment Intensity Analyzer**"
      ]
    },
    {
      "cell_type": "code",
      "execution_count": null,
      "metadata": {
        "colab": {
          "base_uri": "https://localhost:8080/"
        },
        "id": "zsNRdGrPqCAy",
        "outputId": "ff209482-2a44-42e6-ed0f-9a5fa2c03d44"
      },
      "outputs": [
        {
          "output_type": "stream",
          "name": "stdout",
          "text": [
            "['positive' 'positive']\n",
            "['negative' 'negative']\n",
            "['positive' 'positive']\n",
            "['positive' 'positive']\n",
            "['neutral' 'neutral']\n",
            "['positive' 'positive']\n",
            "['positive' 'positive']\n",
            "['positive' 'positive']\n",
            "['negative' 'negative']\n",
            "['neutral' 'neutral']\n",
            "['positive' 'positive']\n",
            "['negative' 'negative']\n",
            "['positive' 'positive']\n",
            "['positive' 'positive']\n",
            "['neutral' 'neutral']\n",
            "['positive' 'positive']\n",
            "['positive' 'positive']\n",
            "['positive' 'positive']\n",
            "['neutral' 'neutral']\n",
            "['negative' 'negative']\n",
            "['positive' 'positive']\n",
            "['positive' 'positive']\n",
            "['positive' 'positive']\n",
            "['positive' 'positive']\n",
            "['positive' 'positive']\n",
            "['positive' 'positive']\n",
            "['positive' 'positive']\n",
            "['positive' 'positive']\n",
            "['positive' 'positive']\n",
            "['positive' 'positive']\n",
            "['positive' 'positive']\n",
            "['positive' 'positive']\n",
            "['positive' 'positive']\n",
            "['positive' 'positive']\n",
            "['positive' 'positive']\n",
            "['positive' 'positive']\n",
            "['positive' 'positive']\n",
            "['positive' 'positive']\n",
            "['positive' 'positive']\n",
            "['positive' 'positive']\n",
            "['positive' 'positive']\n",
            "['positive' 'positive']\n",
            "['positive' 'positive']\n",
            "['positive' 'positive']\n",
            "['positive' 'positive']\n",
            "['positive' 'positive']\n",
            "['positive' 'positive']\n",
            "['positive' 'positive']\n",
            "['positive' 'positive']\n",
            "['positive' 'positive']\n",
            "['positive' 'positive']\n",
            "['positive' 'positive']\n",
            "['anger' 'negative']\n",
            "['fear' 'negative']\n",
            "['sadness' 'negative']\n",
            "['disgust' 'negative']\n",
            "['happiness' 'positive']\n",
            "['joy' 'positive']\n",
            "['love' 'positive']\n",
            "['amusement' 'positive']\n",
            "['enjoyment' 'positive']\n",
            "['admiration' 'positive']\n",
            "['affection' 'positive']\n",
            "['awe' 'neutral']\n",
            "['disappointed' 'negative']\n",
            "['surprise' 'positive']\n",
            "['acceptance' 'positive']\n",
            "['adoration' 'positive']\n",
            "['anticipation' 'positive']\n",
            "['bitter' 'negative']\n",
            "['calmness' 'positive']\n",
            "['confusion' 'negative']\n",
            "['excitement' 'positive']\n",
            "['kind' 'positive']\n",
            "['pride' 'positive']\n",
            "['shame' 'negative']\n",
            "['anger' 'negative']\n",
            "['fear' 'negative']\n",
            "['sadness' 'negative']\n",
            "['disgust' 'negative']\n",
            "['happiness' 'positive']\n",
            "['joy' 'positive']\n",
            "['love' 'positive']\n",
            "['amusement' 'positive']\n",
            "['enjoyment' 'positive']\n",
            "['admiration' 'positive']\n",
            "['affection' 'positive']\n",
            "['awe' 'neutral']\n",
            "['disappointed' 'negative']\n",
            "['surprise' 'positive']\n",
            "['acceptance' 'positive']\n",
            "['adoration' 'positive']\n",
            "['anticipation' 'positive']\n",
            "['bitter' 'negative']\n",
            "['calmness' 'positive']\n",
            "['confusion' 'negative']\n",
            "['excitement' 'positive']\n",
            "['kind' 'positive']\n",
            "['pride' 'positive']\n",
            "['shame' 'negative']\n",
            "['acceptance' 'positive']\n",
            "['excitement' 'positive']\n",
            "['bitter' 'negative']\n",
            "['calmness' 'positive']\n",
            "['confusion' 'negative']\n",
            "['excitement' 'positive']\n",
            "['kind' 'positive']\n",
            "['pride' 'positive']\n",
            "['shame' 'negative']\n",
            "['elation' 'positive']\n",
            "['euphoria' 'positive']\n",
            "['contentment' 'positive']\n",
            "['serenity' 'neutral']\n",
            "['gratitude' 'positive']\n",
            "['hope' 'positive']\n",
            "['empowerment' 'neutral']\n",
            "['compassion' 'positive']\n",
            "['tenderness' 'positive']\n",
            "['arousal' 'neutral']\n",
            "['enthusiasm' 'positive']\n",
            "['fulfillment' 'neutral']\n",
            "['reverence' 'neutral']\n",
            "['elation' 'positive']\n",
            "['euphoria' 'positive']\n",
            "['contentment' 'positive']\n",
            "['serenity' 'neutral']\n",
            "['gratitude' 'positive']\n",
            "['hope' 'positive']\n",
            "['empowerment' 'neutral']\n",
            "['compassion' 'positive']\n",
            "['tenderness' 'positive']\n",
            "['arousal' 'neutral']\n",
            "['enthusiasm' 'positive']\n",
            "['fulfillment' 'neutral']\n",
            "['reverence' 'neutral']\n",
            "['elation' 'positive']\n",
            "['elation' 'positive']\n",
            "['euphoria' 'positive']\n",
            "['contentment' 'positive']\n",
            "['serenity' 'neutral']\n",
            "['gratitude' 'positive']\n",
            "['hope' 'positive']\n",
            "['empowerment' 'neutral']\n",
            "['compassion' 'positive']\n",
            "['tenderness' 'positive']\n",
            "['arousal' 'neutral']\n",
            "['enthusiasm' 'positive']\n",
            "['fulfillment' 'neutral']\n",
            "['reverence' 'neutral']\n",
            "['elation' 'positive']\n",
            "['euphoria' 'positive']\n",
            "['contentment' 'positive']\n",
            "['serenity' 'neutral']\n",
            "['gratitude' 'positive']\n",
            "['hope' 'positive']\n",
            "['empowerment' 'neutral']\n",
            "['compassion' 'positive']\n",
            "['tenderness' 'positive']\n",
            "['arousal' 'neutral']\n",
            "['enthusiasm' 'positive']\n",
            "['fulfillment' 'neutral']\n",
            "['reverence' 'neutral']\n",
            "['elation' 'positive']\n",
            "['despair' 'negative']\n",
            "['grief' 'negative']\n",
            "['loneliness' 'negative']\n",
            "['jealousy' 'negative']\n",
            "['resentment' 'negative']\n",
            "['frustration' 'negative']\n",
            "['boredom' 'negative']\n",
            "['anxiety' 'negative']\n",
            "['intimidation' 'negative']\n",
            "['helplessness' 'negative']\n",
            "['envy' 'negative']\n",
            "['regret' 'negative']\n",
            "['disgust' 'negative']\n",
            "['despair' 'negative']\n",
            "['grief' 'negative']\n",
            "['loneliness' 'negative']\n",
            "['jealousy' 'negative']\n",
            "['resentment' 'negative']\n",
            "['frustration' 'negative']\n",
            "['boredom' 'negative']\n",
            "['anxiety' 'negative']\n",
            "['intimidation' 'negative']\n",
            "['helplessness' 'negative']\n",
            "['envy' 'negative']\n",
            "['regret' 'negative']\n",
            "['disgust' 'negative']\n",
            "['despair' 'negative']\n",
            "['grief' 'negative']\n",
            "['loneliness' 'negative']\n",
            "['jealousy' 'negative']\n",
            "['resentment' 'negative']\n",
            "['frustration' 'negative']\n",
            "['boredom' 'negative']\n",
            "['curiosity' 'neutral']\n",
            "['indifference' 'negative']\n",
            "['confusion' 'negative']\n",
            "['numbness' 'negative']\n",
            "['melancholy' 'negative']\n",
            "['nostalgia' 'neutral']\n",
            "['ambivalence' 'neutral']\n",
            "['acceptance' 'positive']\n",
            "['determination' 'positive']\n",
            "['serenity' 'neutral']\n",
            "['curiosity' 'neutral']\n",
            "['indifference' 'negative']\n",
            "['confusion' 'negative']\n",
            "['numbness' 'negative']\n",
            "['melancholy' 'negative']\n",
            "['nostalgia' 'neutral']\n",
            "['ambivalence' 'neutral']\n",
            "['acceptance' 'positive']\n",
            "['determination' 'positive']\n",
            "['serenity' 'neutral']\n",
            "['curiosity' 'neutral']\n",
            "['indifference' 'negative']\n",
            "['confusion' 'negative']\n",
            "['numbness' 'negative']\n",
            "['melancholy' 'negative']\n",
            "['nostalgia' 'neutral']\n",
            "['ambivalence' 'neutral']\n",
            "['acceptance' 'positive']\n",
            "['determination' 'positive']\n",
            "['serenity' 'neutral']\n",
            "['indifference' 'negative']\n",
            "['confusion' 'negative']\n",
            "['numbness' 'negative']\n",
            "['melancholy' 'negative']\n",
            "['nostalgia' 'neutral']\n",
            "['ambivalence' 'neutral']\n",
            "['acceptance' 'positive']\n",
            "['determination' 'positive']\n",
            "['serenity' 'neutral']\n",
            "['curiosity' 'neutral']\n",
            "['indifference' 'negative']\n",
            "['confusion' 'negative']\n",
            "['numbness' 'negative']\n",
            "['melancholy' 'negative']\n",
            "['nostalgia' 'neutral']\n",
            "['ambivalence' 'neutral']\n",
            "['acceptance' 'positive']\n",
            "['determination' 'positive']\n",
            "['serenity' 'neutral']\n",
            "['curiosity' 'neutral']\n",
            "['numbness' 'negative']\n",
            "['zest' 'neutral']\n",
            "['contentment' 'positive']\n",
            "['hopeful' 'positive']\n",
            "['proud' 'positive']\n",
            "['grateful' 'positive']\n",
            "['empathetic' 'positive']\n",
            "['compassionate' 'positive']\n",
            "['playful' 'positive']\n",
            "['free-spirited' 'neutral']\n",
            "['inspired' 'positive']\n",
            "['hopeful' 'positive']\n",
            "['confident' 'positive']\n",
            "['serenity' 'neutral']\n",
            "['curiosity' 'neutral']\n",
            "['ambivalence' 'neutral']\n",
            "['grateful' 'positive']\n",
            "['zest' 'neutral']\n",
            "['compassionate' 'positive']\n",
            "['proud' 'positive']\n",
            "['hopeful' 'positive']\n",
            "['playful' 'positive']\n",
            "['inspired' 'positive']\n",
            "['contentment' 'positive']\n",
            "['empathetic' 'positive']\n",
            "['free-spirited' 'neutral']\n",
            "['grateful' 'positive']\n",
            "['confident' 'positive']\n",
            "['hopeful' 'positive']\n",
            "['playful' 'positive']\n",
            "['inspired' 'positive']\n",
            "['hopeful' 'positive']\n",
            "['compassionate' 'positive']\n",
            "['proud' 'positive']\n",
            "['hopeful' 'positive']\n",
            "['playful' 'positive']\n",
            "['inspired' 'positive']\n",
            "['contentment' 'positive']\n",
            "['empathetic' 'positive']\n",
            "['free-spirited' 'neutral']\n",
            "['grateful' 'positive']\n",
            "['confident' 'positive']\n",
            "['hopeful' 'positive']\n",
            "['playful' 'positive']\n",
            "['inspired' 'positive']\n",
            "['hopeful' 'positive']\n",
            "['compassionate' 'positive']\n",
            "['proud' 'positive']\n",
            "['hopeful' 'positive']\n",
            "['playful' 'positive']\n",
            "['despair' 'negative']\n",
            "['bitterness' 'negative']\n",
            "['loneliness' 'negative']\n",
            "['yearning' 'positive']\n",
            "['fearful' 'negative']\n",
            "['apprehensive' 'neutral']\n",
            "['overwhelmed' 'positive']\n",
            "['jealous' 'negative']\n",
            "['devastated' 'negative']\n",
            "['frustrated' 'negative']\n",
            "['envious' 'negative']\n",
            "['dismissive' 'neutral']\n",
            "['frustrated' 'negative']\n",
            "['loneliness' 'negative']\n",
            "['fearful' 'negative']\n",
            "['bitterness' 'negative']\n",
            "['overwhelmed' 'positive']\n",
            "['jealous' 'negative']\n",
            "['devastated' 'negative']\n",
            "['frustrated' 'negative']\n",
            "['envious' 'negative']\n",
            "['dismissive' 'neutral']\n",
            "['despair' 'negative']\n",
            "['bitterness' 'negative']\n",
            "['loneliness' 'negative']\n",
            "['yearning' 'positive']\n",
            "['fearful' 'negative']\n",
            "['apprehensive' 'neutral']\n",
            "['overwhelmed' 'positive']\n",
            "['jealous' 'negative']\n",
            "['devastated' 'negative']\n",
            "['frustrated' 'negative']\n",
            "['envious' 'negative']\n",
            "['dismissive' 'neutral']\n",
            "['frustrated' 'negative']\n",
            "['loneliness' 'negative']\n",
            "['awe' 'neutral']\n",
            "['determination' 'positive']\n",
            "['nostalgia' 'neutral']\n",
            "['thrill' 'positive']\n",
            "['calmness' 'positive']\n",
            "['overwhelmed' 'positive']\n",
            "['excitement' 'positive']\n",
            "['gratitude' 'positive']\n",
            "['bittersweet' 'negative']\n",
            "['curiosity' 'neutral']\n",
            "['admiration' 'positive']\n",
            "['overjoyed' 'positive']\n",
            "['inspiration' 'positive']\n",
            "['motivation' 'positive']\n",
            "['gratitude' 'positive']\n",
            "['empowerment' 'neutral']\n",
            "['amusement' 'positive']\n",
            "['contemplation' 'neutral']\n",
            "['joyfulreunion' 'neutral']\n",
            "['excitement' 'positive']\n",
            "['satisfaction' 'positive']\n",
            "['blessed' 'positive']\n",
            "['serenity' 'neutral']\n",
            "['anticipation' 'positive']\n",
            "['reflection' 'neutral']\n",
            "['nostalgia' 'neutral']\n",
            "['appreciation' 'positive']\n",
            "['confidence' 'positive']\n",
            "['contentment' 'positive']\n",
            "['enthusiasm' 'positive']\n",
            "['surprise' 'positive']\n",
            "['accomplishment' 'neutral']\n",
            "['wonderment' 'neutral']\n",
            "['optimism' 'positive']\n",
            "['pride' 'positive']\n",
            "['happiness' 'positive']\n",
            "['elation' 'positive']\n",
            "['curiosity' 'neutral']\n",
            "['enchantment' 'neutral']\n",
            "['intrigue' 'neutral']\n",
            "['playfuljoy' 'neutral']\n",
            "['mindfulness' 'neutral']\n",
            "['dreamchaser' 'neutral']\n",
            "['elegance' 'positive']\n",
            "['whimsy' 'neutral']\n",
            "['pensive' 'positive']\n",
            "['thrill' 'positive']\n",
            "['harmony' 'positive']\n",
            "['creativity' 'positive']\n",
            "['radiance' 'positive']\n",
            "['wonder' 'neutral']\n",
            "['rejuvenation' 'neutral']\n",
            "['inspiration' 'positive']\n",
            "['coziness' 'positive']\n",
            "['gratitude' 'positive']\n",
            "['adventure' 'positive']\n",
            "['euphoria' 'positive']\n",
            "['awe' 'neutral']\n",
            "['enchantment' 'neutral']\n",
            "['melodic' 'neutral']\n",
            "['festivejoy' 'neutral']\n",
            "['innerjourney' 'neutral']\n",
            "['freedom' 'positive']\n",
            "['dazzle' 'neutral']\n",
            "['whimsy' 'neutral']\n",
            "['reflection' 'neutral']\n",
            "['adrenaline' 'neutral']\n",
            "['harmony' 'positive']\n",
            "['artisticburst' 'neutral']\n",
            "['radiance' 'positive']\n",
            "['wonder' 'neutral']\n",
            "['rejuvenation' 'neutral']\n",
            "['inspiration' 'positive']\n",
            "['coziness' 'positive']\n",
            "['gratitude' 'positive']\n",
            "['culinaryodyssey' 'neutral']\n",
            "['euphoria' 'positive']\n",
            "['awe' 'neutral']\n",
            "['curiosity' 'neutral']\n",
            "['excitement' 'positive']\n",
            "['contentment' 'positive']\n",
            "['resilience' 'neutral']\n",
            "['immersion' 'neutral']\n",
            "['nostalgia' 'neutral']\n",
            "['spark' 'positive']\n",
            "['gratitude' 'positive']\n",
            "['marvel' 'positive']\n",
            "['serenity' 'neutral']\n",
            "['heartbreak' 'negative']\n",
            "['loneliness' 'negative']\n",
            "['grief' 'negative']\n",
            "['despair' 'negative']\n",
            "['betrayal' 'negative']\n",
            "['suffering' 'negative']\n",
            "['emotionalstorm' 'neutral']\n",
            "['regret' 'negative']\n",
            "['grief' 'negative']\n",
            "['isolation' 'negative']\n",
            "['disappointment' 'negative']\n",
            "['lostlove' 'neutral']\n",
            "['despair' 'negative']\n",
            "['melancholy' 'negative']\n",
            "['bitterness' 'negative']\n",
            "['exhaustion' 'negative']\n",
            "['sorrow' 'negative']\n",
            "['darkness' 'negative']\n",
            "['desperation' 'negative']\n",
            "['ruins' 'negative']\n",
            "['desolation' 'neutral']\n",
            "['regret' 'negative']\n",
            "['grief' 'negative']\n",
            "['loneliness' 'negative']\n",
            "['bitterness' 'negative']\n",
            "['desolation' 'neutral']\n",
            "['heartbreak' 'negative']\n",
            "['grief' 'negative']\n",
            "['betrayal' 'negative']\n",
            "['resilience' 'neutral']\n",
            "['isolation' 'negative']\n",
            "['regret' 'negative']\n",
            "['despair' 'negative']\n",
            "['sorrow' 'negative']\n",
            "['desolation' 'neutral']\n",
            "['grief' 'negative']\n",
            "['betrayal' 'negative']\n",
            "['heartbreak' 'negative']\n",
            "['despair' 'negative']\n",
            "['loss' 'negative']\n",
            "['heartache' 'neutral']\n",
            "['nostalgia' 'neutral']\n",
            "['grief' 'negative']\n",
            "['betrayal' 'negative']\n",
            "['despair' 'negative']\n",
            "['desolation' 'neutral']\n",
            "['regret' 'negative']\n",
            "['loss' 'negative']\n",
            "['betrayal' 'negative']\n",
            "['solitude' 'neutral']\n",
            "['joy' 'positive']\n",
            "['happiness' 'positive']\n",
            "['contentment' 'positive']\n",
            "['enthusiasm' 'positive']\n",
            "['gratitude' 'positive']\n",
            "['accomplishment' 'neutral']\n",
            "['positivity' 'positive']\n",
            "['joy' 'positive']\n",
            "['kindness' 'positive']\n",
            "['friendship' 'positive']\n",
            "['love' 'positive']\n",
            "['joy' 'positive']\n",
            "['excitement' 'positive']\n",
            "['surprise' 'positive']\n",
            "['curiosity' 'neutral']\n",
            "['gratitude' 'positive']\n",
            "['inspiration' 'positive']\n",
            "['success' 'positive']\n",
            "['happiness' 'positive']\n",
            "['thrill' 'positive']\n",
            "['reflection' 'neutral']\n",
            "['enchantment' 'neutral']\n",
            "['excitement' 'positive']\n",
            "['joy' 'positive']\n",
            "['exploration' 'positive']\n",
            "['awe' 'neutral']\n",
            "['serenity' 'neutral']\n",
            "['amazement' 'positive']\n",
            "['romance' 'positive']\n",
            "['awe' 'neutral']\n",
            "['excitement' 'positive']\n",
            "['captivation' 'neutral']\n",
            "['serenity' 'neutral']\n",
            "['wonder' 'neutral']\n",
            "['awe' 'neutral']\n",
            "['accomplishment' 'neutral']\n",
            "['exploration' 'positive']\n",
            "['adventure' 'positive']\n",
            "['tranquility' 'positive']\n",
            "['grandeur' 'positive']\n",
            "['emotion' 'neutral']\n",
            "['energy' 'positive']\n",
            "['enchantment' 'neutral']\n",
            "['nostalgia' 'neutral']\n",
            "['serenity' 'neutral']\n",
            "['joy' 'positive']\n",
            "['celebration' 'neutral']\n",
            "['charm' 'positive']\n",
            "['ecstasy' 'positive']\n",
            "['hope' 'positive']\n",
            "['enthusiasm' 'positive']\n",
            "['creativity' 'positive']\n",
            "['emotion' 'neutral']\n",
            "['colorful' 'neutral']\n",
            "['pride' 'positive']\n",
            "['hypnotic' 'neutral']\n",
            "['connection' 'neutral']\n",
            "['iconic' 'neutral']\n",
            "['euphoria' 'positive']\n",
            "['journey' 'neutral']\n",
            "['excitement' 'positive']\n",
            "['nostalgia' 'neutral']\n",
            "['engagement' 'positive']\n",
            "['pride' 'positive']\n",
            "['touched' 'neutral']\n",
            "['gratitude' 'positive']\n",
            "['inspiration' 'positive']\n",
            "['contemplation' 'neutral']\n",
            "['suspense' 'neutral']\n",
            "['satisfaction' 'positive']\n",
            "['joy' 'positive']\n",
            "['inspiration' 'positive']\n",
            "['excitement' 'positive']\n",
            "['admiration' 'positive']\n",
            "['captivation' 'neutral']\n",
            "['triumph' 'positive']\n",
            "['awe' 'neutral']\n",
            "['thrill' 'positive']\n",
            "['determination' 'positive']\n",
            "['heartwarming' 'positive']\n",
            "['disappointment' 'negative']\n",
            "['frustration' 'negative']\n",
            "['reflection' 'neutral']\n",
            "['obstacle' 'negative']\n",
            "['sympathy' 'positive']\n",
            "['pressure' 'negative']\n",
            "['renewed effort' 'neutral']\n",
            "['miscalculation' 'neutral']\n",
            "['challenge' 'positive']\n",
            "['despair' 'negative']\n",
            "['tranquility' 'positive']\n",
            "['adventure' 'positive']\n",
            "['solace' 'neutral']\n",
            "['creativity' 'positive']\n",
            "['breakthrough' 'neutral']\n",
            "['harmony' 'positive']\n",
            "['joy in baking' 'positive']\n",
            "['envisioning history' 'neutral']\n",
            "['imagination' 'neutral']\n",
            "['vibrancy' 'neutral']\n",
            "['mesmerizing' 'neutral']\n",
            "['culinary adventure' 'positive']\n",
            "['winter magic' 'neutral']\n",
            "['thrilling journey' 'positive']\n",
            "[\"nature's beauty\" 'positive']\n",
            "['celestial wonder' 'neutral']\n",
            "['creative inspiration' 'positive']\n",
            "['runway creativity' 'positive']\n",
            "[\"ocean's freedom\" 'positive']\n",
            "['whispers of the past' 'neutral']\n",
            "['excitement' 'positive']\n",
            "['boredom' 'negative']\n",
            "['joy' 'positive']\n",
            "['frustration' 'negative']\n",
            "['surprise' 'positive']\n",
            "['indifference' 'negative']\n",
            "['satisfaction' 'positive']\n",
            "['disgust' 'negative']\n",
            "['surprise' 'positive']\n",
            "['joy' 'positive']\n",
            "['excitement' 'positive']\n",
            "['joy' 'positive']\n",
            "['excitement' 'positive']\n",
            "['frustration' 'negative']\n",
            "['joy' 'positive']\n",
            "['pride' 'positive']\n",
            "['excitement' 'positive']\n",
            "['joy' 'positive']\n",
            "['joy' 'positive']\n",
            "['excitement' 'positive']\n",
            "['curiosity' 'neutral']\n",
            "['curiosity' 'neutral']\n",
            "['contentment' 'positive']\n",
            "['gratitude' 'positive']\n",
            "['curiosity' 'neutral']\n",
            "['contentment' 'positive']\n",
            "['curiosity' 'neutral']\n",
            "['joy' 'positive']\n",
            "['joy' 'positive']\n",
            "['contentment' 'positive']\n",
            "['joy' 'positive']\n",
            "['joy' 'positive']\n",
            "['contentment' 'positive']\n",
            "['contentment' 'positive']\n",
            "['contentment' 'positive']\n",
            "['joy' 'positive']\n",
            "['gratitude' 'positive']\n",
            "['curiosity' 'neutral']\n",
            "['contentment' 'positive']\n",
            "['joy' 'positive']\n",
            "['joy' 'positive']\n",
            "['gratitude' 'positive']\n",
            "['excitement' 'positive']\n",
            "['joy' 'positive']\n",
            "['joy' 'positive']\n",
            "['contentment' 'positive']\n",
            "['joy' 'positive']\n",
            "['joy' 'positive']\n",
            "['joy' 'positive']\n",
            "['contentment' 'positive']\n",
            "['joy' 'positive']\n",
            "['excitement' 'positive']\n",
            "['gratitude' 'positive']\n",
            "['excitement' 'positive']\n",
            "['joy' 'positive']\n",
            "['joy' 'positive']\n",
            "['joy' 'positive']\n",
            "['gratitude' 'positive']\n",
            "['curiosity' 'neutral']\n",
            "['joy' 'positive']\n",
            "['gratitude' 'positive']\n",
            "['excitement' 'positive']\n",
            "['relief' 'positive']\n",
            "['excitement' 'positive']\n",
            "['excitement' 'positive']\n",
            "['joy' 'positive']\n",
            "['excitement' 'positive']\n",
            "['positive' 'positive']\n",
            "['embarrassed' 'negative']\n",
            "['excitement' 'positive']\n",
            "['joy' 'positive']\n",
            "['joy' 'positive']\n",
            "['joy' 'positive']\n",
            "['excitement' 'positive']\n",
            "['excitement' 'positive']\n",
            "['joy' 'positive']\n",
            "['excitement' 'positive']\n",
            "['mischievous' 'neutral']\n",
            "['excitement' 'positive']\n",
            "['embarrassed' 'negative']\n",
            "['embarrassed' 'negative']\n",
            "['embarrassed' 'negative']\n",
            "['joy' 'positive']\n",
            "['excitement' 'positive']\n",
            "['mischievous' 'neutral']\n",
            "['excitement' 'positive']\n",
            "['joy' 'positive']\n",
            "['embarrassed' 'negative']\n",
            "['embarrassed' 'negative']\n",
            "['joy' 'positive']\n",
            "['excitement' 'positive']\n",
            "['joy' 'positive']\n",
            "['excitement' 'positive']\n",
            "['joy' 'positive']\n",
            "['embarrassed' 'negative']\n",
            "['excitement' 'positive']\n",
            "['joy' 'positive']\n",
            "['excitement' 'positive']\n",
            "['joy' 'positive']\n",
            "['excitement' 'positive']\n",
            "['joy' 'positive']\n",
            "['embarrassed' 'negative']\n",
            "['excitement' 'positive']\n",
            "['sad' 'negative']\n",
            "['hate' 'negative']\n",
            "['bad' 'negative']\n",
            "['sad' 'negative']\n",
            "['hate' 'negative']\n",
            "['bad' 'negative']\n",
            "['sad' 'negative']\n",
            "['sad' 'negative']\n",
            "['hate' 'negative']\n",
            "['bad' 'negative']\n",
            "['sad' 'negative']\n",
            "['hate' 'negative']\n",
            "['bad' 'negative']\n",
            "['sad' 'negative']\n",
            "['sad' 'negative']\n",
            "['hate' 'negative']\n",
            "['bad' 'negative']\n",
            "['sad' 'negative']\n",
            "['hate' 'negative']\n",
            "['bad' 'negative']\n",
            "['sad' 'negative']\n",
            "['neutral' 'neutral']\n",
            "['neutral' 'neutral']\n",
            "['neutral' 'neutral']\n",
            "['neutral' 'neutral']\n",
            "['neutral' 'neutral']\n",
            "['neutral' 'neutral']\n",
            "['neutral' 'neutral']\n",
            "['neutral' 'neutral']\n",
            "['neutral' 'neutral']\n",
            "['neutral' 'neutral']\n",
            "['neutral' 'neutral']\n",
            "['neutral' 'neutral']\n",
            "['neutral' 'neutral']\n",
            "['neutral' 'neutral']\n",
            "['happy' 'positive']\n",
            "['happy' 'positive']\n",
            "['happy' 'positive']\n",
            "['happy' 'positive']\n",
            "['happy' 'positive']\n",
            "['happy' 'positive']\n",
            "['happy' 'positive']\n",
            "['happy' 'positive']\n",
            "['happy' 'positive']\n",
            "['happy' 'positive']\n",
            "['happy' 'positive']\n",
            "['happy' 'positive']\n",
            "['happy' 'positive']\n",
            "['happy' 'positive']\n"
          ]
        }
      ],
      "source": [
        "from vaderSentiment.vaderSentiment import SentimentIntensityAnalyzer\n",
        "df['Sentiment (Label)']=df['Sentiment (Label)'].str.lower().str.strip()\n",
        "analyzer = SentimentIntensityAnalyzer()\n",
        "\n",
        "# Define a function to categorize sentiment words using VADER\n",
        "def categorize_sentiment(word):\n",
        "    score = analyzer.polarity_scores(word)['compound']\n",
        "    if score >= 0.05:\n",
        "        return 'positive'\n",
        "    elif score <= -0.05:\n",
        "        return 'negative'\n",
        "    else:\n",
        "        return 'neutral'\n",
        "\n",
        "df['sentiment_category (y)'] = df['Sentiment (Label)'].apply(categorize_sentiment)\n",
        "\n",
        "for words in df[['Sentiment (Label)','sentiment_category (y)']].values:\n",
        "    print(words)"
      ]
    },
    {
      "cell_type": "code",
      "execution_count": null,
      "metadata": {
        "id": "ZtO_shuXqHq6"
      },
      "outputs": [],
      "source": [
        "from sklearn.preprocessing import LabelEncoder\n",
        "label_encoder = LabelEncoder()\n",
        "df['sentiment_category (y)'] = label_encoder.fit_transform(df['sentiment_category (y)'])"
      ]
    },
    {
      "cell_type": "markdown",
      "metadata": {
        "id": "hW86Ch9093aQ"
      },
      "source": [
        "# **Count Vectorizer**"
      ]
    },
    {
      "cell_type": "markdown",
      "metadata": {
        "id": "qzKh5Vvc-G0D"
      },
      "source": [
        "After finding that the unique values of object columns are more than 10, a decision was made to use count Vectorizer instead of label encoding."
      ]
    },
    {
      "cell_type": "code",
      "execution_count": null,
      "metadata": {
        "colab": {
          "base_uri": "https://localhost:8080/"
        },
        "id": "GzIE28R7Qw8A",
        "outputId": "fcf1a392-8e3e-428a-c57d-dccf3db877b9"
      },
      "outputs": [
        {
          "output_type": "stream",
          "name": "stderr",
          "text": [
            "[nltk_data] Downloading package stopwords to /root/nltk_data...\n",
            "[nltk_data]   Unzipping corpora/stopwords.zip.\n"
          ]
        },
        {
          "output_type": "execute_result",
          "data": {
            "text/plain": [
              "True"
            ]
          },
          "metadata": {},
          "execution_count": 11
        }
      ],
      "source": [
        "import nltk\n",
        "nltk.download ('stopwords')"
      ]
    },
    {
      "cell_type": "code",
      "execution_count": null,
      "metadata": {
        "colab": {
          "base_uri": "https://localhost:8080/"
        },
        "id": "MxBXbyzHQ9Cs",
        "outputId": "7a88c1c8-dd14-4e1b-e843-0453a0bb9a9c"
      },
      "outputs": [
        {
          "output_type": "stream",
          "name": "stdout",
          "text": [
            "['i', 'me', 'my', 'myself', 'we', 'our', 'ours', 'ourselves', 'you', \"you're\", \"you've\", \"you'll\", \"you'd\", 'your', 'yours', 'yourself', 'yourselves', 'he', 'him', 'his', 'himself', 'she', \"she's\", 'her', 'hers', 'herself', 'it', \"it's\", 'its', 'itself', 'they', 'them', 'their', 'theirs', 'themselves', 'what', 'which', 'who', 'whom', 'this', 'that', \"that'll\", 'these', 'those', 'am', 'is', 'are', 'was', 'were', 'be', 'been', 'being', 'have', 'has', 'had', 'having', 'do', 'does', 'did', 'doing', 'a', 'an', 'the', 'and', 'but', 'if', 'or', 'because', 'as', 'until', 'while', 'of', 'at', 'by', 'for', 'with', 'about', 'against', 'between', 'into', 'through', 'during', 'before', 'after', 'above', 'below', 'to', 'from', 'up', 'down', 'in', 'out', 'on', 'off', 'over', 'under', 'again', 'further', 'then', 'once', 'here', 'there', 'when', 'where', 'why', 'how', 'all', 'any', 'both', 'each', 'few', 'more', 'most', 'other', 'some', 'such', 'no', 'nor', 'not', 'only', 'own', 'same', 'so', 'than', 'too', 'very', 's', 't', 'can', 'will', 'just', 'don', \"don't\", 'should', \"should've\", 'now', 'd', 'll', 'm', 'o', 're', 've', 'y', 'ain', 'aren', \"aren't\", 'couldn', \"couldn't\", 'didn', \"didn't\", 'doesn', \"doesn't\", 'hadn', \"hadn't\", 'hasn', \"hasn't\", 'haven', \"haven't\", 'isn', \"isn't\", 'ma', 'mightn', \"mightn't\", 'mustn', \"mustn't\", 'needn', \"needn't\", 'shan', \"shan't\", 'shouldn', \"shouldn't\", 'wasn', \"wasn't\", 'weren', \"weren't\", 'won', \"won't\", 'wouldn', \"wouldn't\"]\n"
          ]
        }
      ],
      "source": [
        "print(stopwords.words('english'))"
      ]
    },
    {
      "cell_type": "code",
      "execution_count": null,
      "metadata": {
        "id": "0kQesQDLRAUu"
      },
      "outputs": [],
      "source": [
        "from nltk.stem import PorterStemmer\n",
        "from nltk.tokenize import word_tokenize"
      ]
    },
    {
      "cell_type": "code",
      "execution_count": null,
      "metadata": {
        "colab": {
          "base_uri": "https://localhost:8080/"
        },
        "id": "tNnWNdNeRDT-",
        "outputId": "10397394-6b67-4311-d97f-e244e7bd5262"
      },
      "outputs": [
        {
          "output_type": "stream",
          "name": "stderr",
          "text": [
            "[nltk_data] Downloading package punkt to /root/nltk_data...\n",
            "[nltk_data]   Unzipping tokenizers/punkt.zip.\n"
          ]
        },
        {
          "output_type": "execute_result",
          "data": {
            "text/plain": [
              "True"
            ]
          },
          "metadata": {},
          "execution_count": 14
        }
      ],
      "source": [
        "import nltk\n",
        "nltk.download('punkt')"
      ]
    },
    {
      "cell_type": "code",
      "execution_count": null,
      "metadata": {
        "id": "S2kvJi76RGYZ"
      },
      "outputs": [],
      "source": [
        "port_stem=PorterStemmer()"
      ]
    },
    {
      "cell_type": "code",
      "execution_count": null,
      "metadata": {
        "colab": {
          "base_uri": "https://localhost:8080/"
        },
        "id": "EkZXQOUqRKPm",
        "outputId": "07fda838-207b-4759-b6a1-e8e0d3b41881"
      },
      "outputs": [
        {
          "output_type": "stream",
          "name": "stdout",
          "text": [
            "0       Enjoying a beautiful day at the park!        ...\n",
            "1       Traffic was terrible this morning.           ...\n",
            "2       Just finished an amazing workout! 💪          ...\n",
            "3       Excited about the upcoming weekend getaway!  ...\n",
            "4       Trying out a new recipe for dinner tonight.  ...\n",
            "                             ...                        \n",
            "727    Collaborating on a science project that receiv...\n",
            "728    Attending a surprise birthday party organized ...\n",
            "729    Successfully fundraising for a school charity ...\n",
            "730    Participating in a multicultural festival, cel...\n",
            "731    Organizing a virtual talent show during challe...\n",
            "Name: Text, Length: 732, dtype: object\n"
          ]
        }
      ],
      "source": [
        "print(df['Text'])"
      ]
    },
    {
      "cell_type": "code",
      "execution_count": null,
      "metadata": {
        "id": "Gqoe-BGQRMvs"
      },
      "outputs": [],
      "source": [
        "def preprocess_text(text):\n",
        "    # Tokenize the text\n",
        "    tokens = nltk.word_tokenize(text)\n",
        "    # Remove non-alphabetic words and convert to lowercase\n",
        "    tokens = [word.lower() for word in tokens if word.isalpha()]\n",
        "    # Remove stop words\n",
        "    stop_words = set(stopwords.words('english'))\n",
        "    tokens = [word for word in tokens if word not in stop_words]\n",
        "    # Join tokens back into a string\n",
        "    return ' '.join(tokens)"
      ]
    },
    {
      "cell_type": "code",
      "execution_count": null,
      "metadata": {
        "id": "e3jU3zjPRQ4-"
      },
      "outputs": [],
      "source": [
        "df['Processed_Text'] = df['Text'].apply(preprocess_text)"
      ]
    },
    {
      "cell_type": "code",
      "execution_count": null,
      "metadata": {
        "colab": {
          "base_uri": "https://localhost:8080/"
        },
        "id": "WM0eeyYnRTov",
        "outputId": "192c4838-b888-47ce-bb6b-0e09a3890fdb"
      },
      "outputs": [
        {
          "output_type": "stream",
          "name": "stdout",
          "text": [
            "0                            enjoying beautiful day park\n",
            "1                               traffic terrible morning\n",
            "2                               finished amazing workout\n",
            "3                       excited upcoming weekend getaway\n",
            "4                       trying new recipe dinner tonight\n",
            "                             ...                        \n",
            "727    collaborating science project received recogni...\n",
            "728    attending surprise birthday party organized fr...\n",
            "729    successfully fundraising school charity initia...\n",
            "730    participating multicultural festival celebrati...\n",
            "731    organizing virtual talent show challenging tim...\n",
            "Name: Processed_Text, Length: 732, dtype: object\n"
          ]
        }
      ],
      "source": [
        "print(df['Processed_Text'])"
      ]
    },
    {
      "cell_type": "code",
      "execution_count": null,
      "metadata": {
        "id": "T-HiVH2NRW9f"
      },
      "outputs": [],
      "source": [
        "def stem_text(text):\n",
        "    tokens = word_tokenize(text)  # Tokenize the text\n",
        "    stemmed_tokens = [port_stem.stem(token) for token in tokens]\n",
        "    #stemmed_tokenst=re.sub('[^a-zA-z]','',stemmed_tokens)# Stem each token\n",
        "    return ' '.join(stemmed_tokens)  # Join stemmed tokens back into a string"
      ]
    },
    {
      "cell_type": "code",
      "execution_count": null,
      "metadata": {
        "colab": {
          "base_uri": "https://localhost:8080/"
        },
        "id": "e1VubO-m32xQ",
        "outputId": "162c1716-cd39-4c57-8399-c8c46cde960c"
      },
      "outputs": [
        {
          "output_type": "stream",
          "name": "stderr",
          "text": [
            "[nltk_data] Downloading package wordnet to /root/nltk_data...\n"
          ]
        },
        {
          "output_type": "execute_result",
          "data": {
            "text/plain": [
              "True"
            ]
          },
          "metadata": {},
          "execution_count": 21
        }
      ],
      "source": [
        "import nltk\n",
        "nltk.download('wordnet')"
      ]
    },
    {
      "cell_type": "code",
      "execution_count": null,
      "metadata": {
        "id": "Wpqt_WfhRhDD"
      },
      "outputs": [],
      "source": [
        " df['Stemmed_Text'] = df['Processed_Text'].apply(preprocess_text)"
      ]
    },
    {
      "cell_type": "code",
      "execution_count": null,
      "metadata": {
        "colab": {
          "base_uri": "https://localhost:8080/"
        },
        "id": "VCi8cXVgRiql",
        "outputId": "9d993b31-5f53-4ad6-9e92-effe4d47939e"
      },
      "outputs": [
        {
          "output_type": "stream",
          "name": "stdout",
          "text": [
            "0                            enjoying beautiful day park\n",
            "1                               traffic terrible morning\n",
            "2                               finished amazing workout\n",
            "3                       excited upcoming weekend getaway\n",
            "4                       trying new recipe dinner tonight\n",
            "                             ...                        \n",
            "727    collaborating science project received recogni...\n",
            "728    attending surprise birthday party organized fr...\n",
            "729    successfully fundraising school charity initia...\n",
            "730    participating multicultural festival celebrati...\n",
            "731    organizing virtual talent show challenging tim...\n",
            "Name: Stemmed_Text, Length: 732, dtype: object\n"
          ]
        }
      ],
      "source": [
        "print(df['Stemmed_Text'])"
      ]
    },
    {
      "cell_type": "code",
      "execution_count": null,
      "metadata": {
        "id": "hnUVZl7zRmM1"
      },
      "outputs": [],
      "source": [
        "from sklearn.datasets import fetch_20newsgroups\n",
        "from sklearn.feature_extraction.text import CountVectorizer\n",
        "from sklearn.naive_bayes import MultinomialNB, GaussianNB\n",
        "from sklearn.model_selection import train_test_split\n",
        "from sklearn.metrics import accuracy_score"
      ]
    },
    {
      "cell_type": "code",
      "execution_count": null,
      "metadata": {
        "id": "-G7irOEJR6IP"
      },
      "outputs": [],
      "source": [
        "vectorizer = TfidfVectorizer()"
      ]
    },
    {
      "cell_type": "code",
      "execution_count": null,
      "metadata": {
        "id": "DJroLci9R9Uz"
      },
      "outputs": [],
      "source": [
        "tfidf_features = vectorizer.fit_transform(df['Stemmed_Text'])\n",
        "tfidf_featuresss = vectorizer.fit_transform(df['Topic'])"
      ]
    },
    {
      "cell_type": "code",
      "execution_count": null,
      "metadata": {
        "id": "FQsjPrP80mvn"
      },
      "outputs": [],
      "source": [
        "#connecting the preprocessed columns\n",
        "X = pd.concat([pd.DataFrame(tfidf_features.toarray())\n",
        "             ,pd.DataFrame(tfidf_featuresss.toarray())], axis=1)"
      ]
    },
    {
      "cell_type": "code",
      "execution_count": null,
      "metadata": {
        "id": "bT1gjljbSC27"
      },
      "outputs": [],
      "source": [
        "X_train, X_test, y_train, y_test = train_test_split(X,df['sentiment_category (y)'], test_size=0.2, random_state=5)"
      ]
    },
    {
      "cell_type": "code",
      "execution_count": null,
      "metadata": {
        "id": "5_v5CkYjfEmD"
      },
      "outputs": [],
      "source": [
        "X_train.columns = X_train.columns.astype(str)\n",
        "X_test.columns = X_test.columns.astype(str)"
      ]
    },
    {
      "cell_type": "code",
      "execution_count": null,
      "metadata": {
        "colab": {
          "base_uri": "https://localhost:8080/",
          "height": 75
        },
        "id": "bY2p13JESG9-",
        "outputId": "c231e299-389e-4621-b931-80637ab84627"
      },
      "outputs": [
        {
          "output_type": "execute_result",
          "data": {
            "text/plain": [
              "MultinomialNB()"
            ],
            "text/html": [
              "<style>#sk-container-id-2 {color: black;background-color: white;}#sk-container-id-2 pre{padding: 0;}#sk-container-id-2 div.sk-toggleable {background-color: white;}#sk-container-id-2 label.sk-toggleable__label {cursor: pointer;display: block;width: 100%;margin-bottom: 0;padding: 0.3em;box-sizing: border-box;text-align: center;}#sk-container-id-2 label.sk-toggleable__label-arrow:before {content: \"▸\";float: left;margin-right: 0.25em;color: #696969;}#sk-container-id-2 label.sk-toggleable__label-arrow:hover:before {color: black;}#sk-container-id-2 div.sk-estimator:hover label.sk-toggleable__label-arrow:before {color: black;}#sk-container-id-2 div.sk-toggleable__content {max-height: 0;max-width: 0;overflow: hidden;text-align: left;background-color: #f0f8ff;}#sk-container-id-2 div.sk-toggleable__content pre {margin: 0.2em;color: black;border-radius: 0.25em;background-color: #f0f8ff;}#sk-container-id-2 input.sk-toggleable__control:checked~div.sk-toggleable__content {max-height: 200px;max-width: 100%;overflow: auto;}#sk-container-id-2 input.sk-toggleable__control:checked~label.sk-toggleable__label-arrow:before {content: \"▾\";}#sk-container-id-2 div.sk-estimator input.sk-toggleable__control:checked~label.sk-toggleable__label {background-color: #d4ebff;}#sk-container-id-2 div.sk-label input.sk-toggleable__control:checked~label.sk-toggleable__label {background-color: #d4ebff;}#sk-container-id-2 input.sk-hidden--visually {border: 0;clip: rect(1px 1px 1px 1px);clip: rect(1px, 1px, 1px, 1px);height: 1px;margin: -1px;overflow: hidden;padding: 0;position: absolute;width: 1px;}#sk-container-id-2 div.sk-estimator {font-family: monospace;background-color: #f0f8ff;border: 1px dotted black;border-radius: 0.25em;box-sizing: border-box;margin-bottom: 0.5em;}#sk-container-id-2 div.sk-estimator:hover {background-color: #d4ebff;}#sk-container-id-2 div.sk-parallel-item::after {content: \"\";width: 100%;border-bottom: 1px solid gray;flex-grow: 1;}#sk-container-id-2 div.sk-label:hover label.sk-toggleable__label {background-color: #d4ebff;}#sk-container-id-2 div.sk-serial::before {content: \"\";position: absolute;border-left: 1px solid gray;box-sizing: border-box;top: 0;bottom: 0;left: 50%;z-index: 0;}#sk-container-id-2 div.sk-serial {display: flex;flex-direction: column;align-items: center;background-color: white;padding-right: 0.2em;padding-left: 0.2em;position: relative;}#sk-container-id-2 div.sk-item {position: relative;z-index: 1;}#sk-container-id-2 div.sk-parallel {display: flex;align-items: stretch;justify-content: center;background-color: white;position: relative;}#sk-container-id-2 div.sk-item::before, #sk-container-id-2 div.sk-parallel-item::before {content: \"\";position: absolute;border-left: 1px solid gray;box-sizing: border-box;top: 0;bottom: 0;left: 50%;z-index: -1;}#sk-container-id-2 div.sk-parallel-item {display: flex;flex-direction: column;z-index: 1;position: relative;background-color: white;}#sk-container-id-2 div.sk-parallel-item:first-child::after {align-self: flex-end;width: 50%;}#sk-container-id-2 div.sk-parallel-item:last-child::after {align-self: flex-start;width: 50%;}#sk-container-id-2 div.sk-parallel-item:only-child::after {width: 0;}#sk-container-id-2 div.sk-dashed-wrapped {border: 1px dashed gray;margin: 0 0.4em 0.5em 0.4em;box-sizing: border-box;padding-bottom: 0.4em;background-color: white;}#sk-container-id-2 div.sk-label label {font-family: monospace;font-weight: bold;display: inline-block;line-height: 1.2em;}#sk-container-id-2 div.sk-label-container {text-align: center;}#sk-container-id-2 div.sk-container {/* jupyter's `normalize.less` sets `[hidden] { display: none; }` but bootstrap.min.css set `[hidden] { display: none !important; }` so we also need the `!important` here to be able to override the default hidden behavior on the sphinx rendered scikit-learn.org. See: https://github.com/scikit-learn/scikit-learn/issues/21755 */display: inline-block !important;position: relative;}#sk-container-id-2 div.sk-text-repr-fallback {display: none;}</style><div id=\"sk-container-id-2\" class=\"sk-top-container\"><div class=\"sk-text-repr-fallback\"><pre>MultinomialNB()</pre><b>In a Jupyter environment, please rerun this cell to show the HTML representation or trust the notebook. <br />On GitHub, the HTML representation is unable to render, please try loading this page with nbviewer.org.</b></div><div class=\"sk-container\" hidden><div class=\"sk-item\"><div class=\"sk-estimator sk-toggleable\"><input class=\"sk-toggleable__control sk-hidden--visually\" id=\"sk-estimator-id-2\" type=\"checkbox\" checked><label for=\"sk-estimator-id-2\" class=\"sk-toggleable__label sk-toggleable__label-arrow\">MultinomialNB</label><div class=\"sk-toggleable__content\"><pre>MultinomialNB()</pre></div></div></div></div></div>"
            ]
          },
          "metadata": {},
          "execution_count": 49
        }
      ],
      "source": [
        "from sklearn.naive_bayes import MultinomialNB\n",
        "\n",
        "model = MultinomialNB()\n",
        "model.fit(X_train, y_train)"
      ]
    },
    {
      "cell_type": "code",
      "execution_count": null,
      "metadata": {
        "id": "xyqtNGG28YGH"
      },
      "outputs": [],
      "source": [
        "from sklearn.model_selection import KFold\n",
        "from sklearn.model_selection import cross_val_score\n",
        "# Perform cross-validation\n",
        "kfold = KFold(n_splits=5, shuffle=True, random_state=42)\n",
        "scores = cross_val_score(model, X, df['sentiment_category (y)'], cv=kfold)"
      ]
    },
    {
      "cell_type": "code",
      "execution_count": null,
      "metadata": {
        "colab": {
          "base_uri": "https://localhost:8080/"
        },
        "id": "FF3QIRTBqGX5",
        "outputId": "4fff53ab-c0b3-47a8-c970-09dbda817799"
      },
      "outputs": [
        {
          "output_type": "stream",
          "name": "stdout",
          "text": [
            "Cross-validation scores: [0.80272109 0.86394558 0.86986301 0.83561644 0.83561644]\n"
          ]
        }
      ],
      "source": [
        "# Print the cross-validation scores\n",
        "print(\"Cross-validation scores:\", scores)"
      ]
    },
    {
      "cell_type": "code",
      "execution_count": null,
      "metadata": {
        "colab": {
          "base_uri": "https://localhost:8080/"
        },
        "id": "HbS3O8P6rrNA",
        "outputId": "dfba6c85-e051-48ff-8dc1-e03436062d26"
      },
      "outputs": [
        {
          "output_type": "stream",
          "name": "stdout",
          "text": [
            "Mean accuracy: 0.8415525114155251\n",
            "Standard deviation: 0.024005363227131767\n"
          ]
        }
      ],
      "source": [
        "# Print the mean and standard deviation of the cross-validation scores\n",
        "print(\"Mean accuracy:\", scores.mean())\n",
        "print(\"Standard deviation:\", scores.std())"
      ]
    },
    {
      "cell_type": "code",
      "execution_count": null,
      "metadata": {
        "id": "x1pInJJmSMu_"
      },
      "outputs": [],
      "source": [
        "predictions = model.predict(X_test)"
      ]
    },
    {
      "cell_type": "code",
      "execution_count": null,
      "metadata": {
        "colab": {
          "base_uri": "https://localhost:8080/"
        },
        "id": "PCaBYtXpUS-e",
        "outputId": "a0d20ee0-91c6-47c8-acce-914461881ffd"
      },
      "outputs": [
        {
          "output_type": "stream",
          "name": "stdout",
          "text": [
            "Accuracy: 0.7891156462585034\n"
          ]
        }
      ],
      "source": [
        "accuracy = accuracy_score(y_test, predictions)\n",
        "print(\"Accuracy:\", accuracy)"
      ]
    },
    {
      "cell_type": "markdown",
      "metadata": {
        "id": "j3V7ziOvyuWy"
      },
      "source": [
        "# **Train the Logistic Regression**"
      ]
    },
    {
      "cell_type": "code",
      "execution_count": null,
      "metadata": {
        "id": "2L2tGlMocB6I"
      },
      "outputs": [],
      "source": [
        "classifier = LogisticRegression(random_state = 0)"
      ]
    },
    {
      "cell_type": "code",
      "source": [
        "scores_log = cross_val_score(classifier, X, df['sentiment_category (y)'], cv=kfold)"
      ],
      "metadata": {
        "id": "ViLvpTHTU9z5"
      },
      "execution_count": null,
      "outputs": []
    },
    {
      "cell_type": "code",
      "execution_count": null,
      "metadata": {
        "colab": {
          "base_uri": "https://localhost:8080/"
        },
        "id": "itOQw16ir8Q_",
        "outputId": "e87d6bb6-6e4f-4705-f291-dcac14b41926"
      },
      "outputs": [
        {
          "output_type": "stream",
          "name": "stdout",
          "text": [
            "Cross-validation scores: [0.68707483 0.82312925 0.81506849 0.69863014 0.78082192]\n"
          ]
        }
      ],
      "source": [
        "# Print the cross-validation scores\n",
        "print(\"Cross-validation scores:\", scores_log)"
      ]
    },
    {
      "cell_type": "code",
      "source": [
        "print(\"Mean accuracy:\", scores_log.mean())\n",
        "print(\"Standard deviation:\", scores_log.std())"
      ],
      "metadata": {
        "colab": {
          "base_uri": "https://localhost:8080/"
        },
        "id": "ArwXAdGOVHw3",
        "outputId": "abc8c2e3-9d3a-4ed6-f625-6d997390e62a"
      },
      "execution_count": null,
      "outputs": [
        {
          "output_type": "stream",
          "name": "stdout",
          "text": [
            "Mean accuracy: 0.7609449259155717\n",
            "Standard deviation: 0.057500034278647784\n"
          ]
        }
      ]
    },
    {
      "cell_type": "code",
      "execution_count": null,
      "metadata": {
        "id": "oyMQGiob86qY"
      },
      "outputs": [],
      "source": [
        "kfold = KFold(n_splits=5, shuffle=True, random_state=42)\n",
        "scores_log = cross_val_score(model, X, df['sentiment_category (y)'], cv=kfold)"
      ]
    },
    {
      "cell_type": "code",
      "execution_count": null,
      "metadata": {
        "colab": {
          "background_save": true
        },
        "id": "wKYMPuJfsCEY"
      },
      "outputs": [],
      "source": [
        "# Print the mean and standard deviation of the cross-validation scores\n",
        "print(\"Mean accuracy:\", scores_log.mean())\n",
        "print(\"Standard deviation:\", scores_log.std())"
      ]
    },
    {
      "cell_type": "code",
      "execution_count": null,
      "metadata": {
        "colab": {
          "background_save": true
        },
        "id": "xmV0fY4tcTLp"
      },
      "outputs": [],
      "source": [
        "classifier.fit(X_train, y_train)"
      ]
    },
    {
      "cell_type": "code",
      "execution_count": null,
      "metadata": {
        "colab": {
          "background_save": true
        },
        "id": "i1mD-hjJbrG-"
      },
      "outputs": [],
      "source": [
        "y_pred = classifier.predict(X_test)"
      ]
    },
    {
      "cell_type": "code",
      "execution_count": null,
      "metadata": {
        "colab": {
          "background_save": true
        },
        "id": "gqbVuk-eh59E"
      },
      "outputs": [],
      "source": [
        "cm = confusion_matrix(y_test,predictions)\n",
        "cm"
      ]
    },
    {
      "cell_type": "code",
      "execution_count": null,
      "metadata": {
        "colab": {
          "background_save": true
        },
        "id": "kzl7YsaiiC1d"
      },
      "outputs": [],
      "source": [
        "cr=classification_report(y_test,predictions)\n",
        "print(cr)"
      ]
    },
    {
      "cell_type": "code",
      "execution_count": null,
      "metadata": {
        "id": "bShBb38HJq04"
      },
      "outputs": [],
      "source": [
        "from sklearn.pipeline import Pipeline\n",
        "from sklearn.feature_extraction.text import CountVectorizer\n",
        "from sklearn.model_selection import train_test_split\n",
        "from sklearn.ensemble import RandomForestClassifier\n",
        "from sklearn.metrics import accuracy_score\n"
      ]
    },
    {
      "cell_type": "code",
      "execution_count": null,
      "metadata": {
        "colab": {
          "base_uri": "https://localhost:8080/",
          "height": 75
        },
        "id": "Ss6MpE1C3JtB",
        "outputId": "27054f99-6856-4e69-f332-bba9a4471679"
      },
      "outputs": [
        {
          "output_type": "execute_result",
          "data": {
            "text/plain": [
              "SVC(kernel='linear')"
            ],
            "text/html": [
              "<style>#sk-container-id-3 {color: black;background-color: white;}#sk-container-id-3 pre{padding: 0;}#sk-container-id-3 div.sk-toggleable {background-color: white;}#sk-container-id-3 label.sk-toggleable__label {cursor: pointer;display: block;width: 100%;margin-bottom: 0;padding: 0.3em;box-sizing: border-box;text-align: center;}#sk-container-id-3 label.sk-toggleable__label-arrow:before {content: \"▸\";float: left;margin-right: 0.25em;color: #696969;}#sk-container-id-3 label.sk-toggleable__label-arrow:hover:before {color: black;}#sk-container-id-3 div.sk-estimator:hover label.sk-toggleable__label-arrow:before {color: black;}#sk-container-id-3 div.sk-toggleable__content {max-height: 0;max-width: 0;overflow: hidden;text-align: left;background-color: #f0f8ff;}#sk-container-id-3 div.sk-toggleable__content pre {margin: 0.2em;color: black;border-radius: 0.25em;background-color: #f0f8ff;}#sk-container-id-3 input.sk-toggleable__control:checked~div.sk-toggleable__content {max-height: 200px;max-width: 100%;overflow: auto;}#sk-container-id-3 input.sk-toggleable__control:checked~label.sk-toggleable__label-arrow:before {content: \"▾\";}#sk-container-id-3 div.sk-estimator input.sk-toggleable__control:checked~label.sk-toggleable__label {background-color: #d4ebff;}#sk-container-id-3 div.sk-label input.sk-toggleable__control:checked~label.sk-toggleable__label {background-color: #d4ebff;}#sk-container-id-3 input.sk-hidden--visually {border: 0;clip: rect(1px 1px 1px 1px);clip: rect(1px, 1px, 1px, 1px);height: 1px;margin: -1px;overflow: hidden;padding: 0;position: absolute;width: 1px;}#sk-container-id-3 div.sk-estimator {font-family: monospace;background-color: #f0f8ff;border: 1px dotted black;border-radius: 0.25em;box-sizing: border-box;margin-bottom: 0.5em;}#sk-container-id-3 div.sk-estimator:hover {background-color: #d4ebff;}#sk-container-id-3 div.sk-parallel-item::after {content: \"\";width: 100%;border-bottom: 1px solid gray;flex-grow: 1;}#sk-container-id-3 div.sk-label:hover label.sk-toggleable__label {background-color: #d4ebff;}#sk-container-id-3 div.sk-serial::before {content: \"\";position: absolute;border-left: 1px solid gray;box-sizing: border-box;top: 0;bottom: 0;left: 50%;z-index: 0;}#sk-container-id-3 div.sk-serial {display: flex;flex-direction: column;align-items: center;background-color: white;padding-right: 0.2em;padding-left: 0.2em;position: relative;}#sk-container-id-3 div.sk-item {position: relative;z-index: 1;}#sk-container-id-3 div.sk-parallel {display: flex;align-items: stretch;justify-content: center;background-color: white;position: relative;}#sk-container-id-3 div.sk-item::before, #sk-container-id-3 div.sk-parallel-item::before {content: \"\";position: absolute;border-left: 1px solid gray;box-sizing: border-box;top: 0;bottom: 0;left: 50%;z-index: -1;}#sk-container-id-3 div.sk-parallel-item {display: flex;flex-direction: column;z-index: 1;position: relative;background-color: white;}#sk-container-id-3 div.sk-parallel-item:first-child::after {align-self: flex-end;width: 50%;}#sk-container-id-3 div.sk-parallel-item:last-child::after {align-self: flex-start;width: 50%;}#sk-container-id-3 div.sk-parallel-item:only-child::after {width: 0;}#sk-container-id-3 div.sk-dashed-wrapped {border: 1px dashed gray;margin: 0 0.4em 0.5em 0.4em;box-sizing: border-box;padding-bottom: 0.4em;background-color: white;}#sk-container-id-3 div.sk-label label {font-family: monospace;font-weight: bold;display: inline-block;line-height: 1.2em;}#sk-container-id-3 div.sk-label-container {text-align: center;}#sk-container-id-3 div.sk-container {/* jupyter's `normalize.less` sets `[hidden] { display: none; }` but bootstrap.min.css set `[hidden] { display: none !important; }` so we also need the `!important` here to be able to override the default hidden behavior on the sphinx rendered scikit-learn.org. See: https://github.com/scikit-learn/scikit-learn/issues/21755 */display: inline-block !important;position: relative;}#sk-container-id-3 div.sk-text-repr-fallback {display: none;}</style><div id=\"sk-container-id-3\" class=\"sk-top-container\"><div class=\"sk-text-repr-fallback\"><pre>SVC(kernel=&#x27;linear&#x27;)</pre><b>In a Jupyter environment, please rerun this cell to show the HTML representation or trust the notebook. <br />On GitHub, the HTML representation is unable to render, please try loading this page with nbviewer.org.</b></div><div class=\"sk-container\" hidden><div class=\"sk-item\"><div class=\"sk-estimator sk-toggleable\"><input class=\"sk-toggleable__control sk-hidden--visually\" id=\"sk-estimator-id-3\" type=\"checkbox\" checked><label for=\"sk-estimator-id-3\" class=\"sk-toggleable__label sk-toggleable__label-arrow\">SVC</label><div class=\"sk-toggleable__content\"><pre>SVC(kernel=&#x27;linear&#x27;)</pre></div></div></div></div></div>"
            ]
          },
          "metadata": {},
          "execution_count": 61
        }
      ],
      "source": [
        "# Initialize the SVM classifier\n",
        "svm_classifier = SVC(kernel='linear')  # You can choose different kernels such as 'linear', 'rbf', 'poly', etc.\n",
        "\n",
        "# Train the SVM classifier\n",
        "svm_classifier.fit(X_train, y_train)"
      ]
    },
    {
      "cell_type": "code",
      "execution_count": null,
      "metadata": {
        "id": "DrLF428VsKfb"
      },
      "outputs": [],
      "source": [
        "svm_scores = cross_val_score(svm_classifier, X, df['sentiment_category (y)'], cv=kfold)"
      ]
    },
    {
      "cell_type": "code",
      "execution_count": null,
      "metadata": {
        "colab": {
          "base_uri": "https://localhost:8080/"
        },
        "id": "A5Hu-H_rsV7Z",
        "outputId": "2a957839-7d97-4214-810f-00e91ec806ae"
      },
      "outputs": [
        {
          "output_type": "stream",
          "name": "stdout",
          "text": [
            "Cross-validation scores: [0.80952381 0.85714286 0.84931507 0.82191781 0.84931507]\n"
          ]
        }
      ],
      "source": [
        "# Print the cross-validation scores\n",
        "print(\"Cross-validation scores:\", svm_scores)"
      ]
    },
    {
      "cell_type": "code",
      "execution_count": null,
      "metadata": {
        "colab": {
          "base_uri": "https://localhost:8080/"
        },
        "id": "R9cD3H_dsdHx",
        "outputId": "445cd80c-7798-4d0e-85b7-4b04e766221f"
      },
      "outputs": [
        {
          "output_type": "stream",
          "name": "stdout",
          "text": [
            "Mean accuracy: 0.8374429223744292\n",
            "Standard deviation: 0.018387436845346744\n"
          ]
        }
      ],
      "source": [
        "# Print the mean and standard deviation of the cross-validation scores\n",
        "print(\"Mean accuracy:\", svm_scores.mean())\n",
        "print(\"Standard deviation:\", svm_scores.std())"
      ]
    },
    {
      "cell_type": "code",
      "execution_count": null,
      "metadata": {
        "colab": {
          "base_uri": "https://localhost:8080/"
        },
        "id": "61k0f-h2323u",
        "outputId": "6b174c44-7d21-4a3c-ef22-7a5afa961786"
      },
      "outputs": [
        {
          "output_type": "stream",
          "name": "stdout",
          "text": [
            "Accuracy: 0.8095238095238095\n"
          ]
        }
      ],
      "source": [
        "# Predict on the test set\n",
        "y_pred_svm = svm_classifier.predict(X_test)\n",
        "\n",
        "# Evaluate the model\n",
        "accuracy = accuracy_score(y_test, y_pred_svm)\n",
        "print(\"Accuracy:\", accuracy)"
      ]
    },
    {
      "cell_type": "code",
      "source": [
        "x= (input())\n",
        "y=(input())"
      ],
      "metadata": {
        "colab": {
          "base_uri": "https://localhost:8080/"
        },
        "id": "d7NYSVNCV_dz",
        "outputId": "9473d9fa-57ce-4e12-fe0c-ff8aeef146b6"
      },
      "execution_count": null,
      "outputs": [
        {
          "name": "stdout",
          "output_type": "stream",
          "text": [
            "roro\n",
            "lol\n"
          ]
        }
      ]
    },
    {
      "cell_type": "code",
      "source": [
        "pross_x = preprocess_text(x)\n",
        "pross_x = stem_text (pross_x )\n",
        "r=vectorizer.transform(pross_x)"
      ],
      "metadata": {
        "colab": {
          "base_uri": "https://localhost:8080/",
          "height": 347
        },
        "id": "buKH5rU4WaBS",
        "outputId": "9b8cb641-37ca-4f6b-e620-c86dac8f8489"
      },
      "execution_count": null,
      "outputs": [
        {
          "output_type": "error",
          "ename": "ValueError",
          "evalue": "Iterable over raw text documents expected, string object received.",
          "traceback": [
            "\u001b[0;31m---------------------------------------------------------------------------\u001b[0m",
            "\u001b[0;31mValueError\u001b[0m                                Traceback (most recent call last)",
            "\u001b[0;32m<ipython-input-78-2ef9258caa9a>\u001b[0m in \u001b[0;36m<cell line: 3>\u001b[0;34m()\u001b[0m\n\u001b[1;32m      1\u001b[0m \u001b[0mpross_x\u001b[0m \u001b[0;34m=\u001b[0m \u001b[0mpreprocess_text\u001b[0m\u001b[0;34m(\u001b[0m\u001b[0mx\u001b[0m\u001b[0;34m)\u001b[0m\u001b[0;34m\u001b[0m\u001b[0;34m\u001b[0m\u001b[0m\n\u001b[1;32m      2\u001b[0m \u001b[0mpross_x\u001b[0m \u001b[0;34m=\u001b[0m \u001b[0mstem_text\u001b[0m \u001b[0;34m(\u001b[0m\u001b[0mpross_x\u001b[0m \u001b[0;34m)\u001b[0m\u001b[0;34m\u001b[0m\u001b[0;34m\u001b[0m\u001b[0m\n\u001b[0;32m----> 3\u001b[0;31m \u001b[0mr\u001b[0m\u001b[0;34m=\u001b[0m\u001b[0mvectorizer\u001b[0m\u001b[0;34m.\u001b[0m\u001b[0mtransform\u001b[0m\u001b[0;34m(\u001b[0m\u001b[0mpross_x\u001b[0m\u001b[0;34m)\u001b[0m\u001b[0;34m\u001b[0m\u001b[0;34m\u001b[0m\u001b[0m\n\u001b[0m",
            "\u001b[0;32m/usr/local/lib/python3.10/dist-packages/sklearn/feature_extraction/text.py\u001b[0m in \u001b[0;36mtransform\u001b[0;34m(self, raw_documents)\u001b[0m\n\u001b[1;32m   2155\u001b[0m         \u001b[0mcheck_is_fitted\u001b[0m\u001b[0;34m(\u001b[0m\u001b[0mself\u001b[0m\u001b[0;34m,\u001b[0m \u001b[0mmsg\u001b[0m\u001b[0;34m=\u001b[0m\u001b[0;34m\"The TF-IDF vectorizer is not fitted\"\u001b[0m\u001b[0;34m)\u001b[0m\u001b[0;34m\u001b[0m\u001b[0;34m\u001b[0m\u001b[0m\n\u001b[1;32m   2156\u001b[0m \u001b[0;34m\u001b[0m\u001b[0m\n\u001b[0;32m-> 2157\u001b[0;31m         \u001b[0mX\u001b[0m \u001b[0;34m=\u001b[0m \u001b[0msuper\u001b[0m\u001b[0;34m(\u001b[0m\u001b[0;34m)\u001b[0m\u001b[0;34m.\u001b[0m\u001b[0mtransform\u001b[0m\u001b[0;34m(\u001b[0m\u001b[0mraw_documents\u001b[0m\u001b[0;34m)\u001b[0m\u001b[0;34m\u001b[0m\u001b[0;34m\u001b[0m\u001b[0m\n\u001b[0m\u001b[1;32m   2158\u001b[0m         \u001b[0;32mreturn\u001b[0m \u001b[0mself\u001b[0m\u001b[0;34m.\u001b[0m\u001b[0m_tfidf\u001b[0m\u001b[0;34m.\u001b[0m\u001b[0mtransform\u001b[0m\u001b[0;34m(\u001b[0m\u001b[0mX\u001b[0m\u001b[0;34m,\u001b[0m \u001b[0mcopy\u001b[0m\u001b[0;34m=\u001b[0m\u001b[0;32mFalse\u001b[0m\u001b[0;34m)\u001b[0m\u001b[0;34m\u001b[0m\u001b[0;34m\u001b[0m\u001b[0m\n\u001b[1;32m   2159\u001b[0m \u001b[0;34m\u001b[0m\u001b[0m\n",
            "\u001b[0;32m/usr/local/lib/python3.10/dist-packages/sklearn/feature_extraction/text.py\u001b[0m in \u001b[0;36mtransform\u001b[0;34m(self, raw_documents)\u001b[0m\n\u001b[1;32m   1425\u001b[0m         \"\"\"\n\u001b[1;32m   1426\u001b[0m         \u001b[0;32mif\u001b[0m \u001b[0misinstance\u001b[0m\u001b[0;34m(\u001b[0m\u001b[0mraw_documents\u001b[0m\u001b[0;34m,\u001b[0m \u001b[0mstr\u001b[0m\u001b[0;34m)\u001b[0m\u001b[0;34m:\u001b[0m\u001b[0;34m\u001b[0m\u001b[0;34m\u001b[0m\u001b[0m\n\u001b[0;32m-> 1427\u001b[0;31m             raise ValueError(\n\u001b[0m\u001b[1;32m   1428\u001b[0m                 \u001b[0;34m\"Iterable over raw text documents expected, string object received.\"\u001b[0m\u001b[0;34m\u001b[0m\u001b[0;34m\u001b[0m\u001b[0m\n\u001b[1;32m   1429\u001b[0m             )\n",
            "\u001b[0;31mValueError\u001b[0m: Iterable over raw text documents expected, string object received."
          ]
        }
      ]
    },
    {
      "cell_type": "code",
      "source": [
        "pross_y = preprocess_text(y)\n",
        "pross_y = stem_text (pross_y)\n",
        "pross_y=vectorizer.fit_transform(pross_y)"
      ],
      "metadata": {
        "id": "buXTYFVjW6Ze"
      },
      "execution_count": null,
      "outputs": []
    },
    {
      "cell_type": "code",
      "source": [],
      "metadata": {
        "id": "tpW60haOXWte"
      },
      "execution_count": null,
      "outputs": []
    },
    {
      "cell_type": "code",
      "source": [
        "model.predict(pross_x)"
      ],
      "metadata": {
        "colab": {
          "base_uri": "https://localhost:8080/",
          "height": 438
        },
        "id": "IVa-GVMTW_yR",
        "outputId": "24c693ee-e721-4bc2-9a65-8147a251ddcd"
      },
      "execution_count": null,
      "outputs": [
        {
          "output_type": "stream",
          "name": "stderr",
          "text": [
            "/usr/local/lib/python3.10/dist-packages/sklearn/base.py:439: UserWarning: X does not have valid feature names, but MultinomialNB was fitted with feature names\n",
            "  warnings.warn(\n"
          ]
        },
        {
          "output_type": "error",
          "ename": "ValueError",
          "evalue": "Expected 2D array, got scalar array instead:\narray=roaa.\nReshape your data either using array.reshape(-1, 1) if your data has a single feature or array.reshape(1, -1) if it contains a single sample.",
          "traceback": [
            "\u001b[0;31m---------------------------------------------------------------------------\u001b[0m",
            "\u001b[0;31mValueError\u001b[0m                                Traceback (most recent call last)",
            "\u001b[0;32m<ipython-input-75-6e9dfec61027>\u001b[0m in \u001b[0;36m<cell line: 1>\u001b[0;34m()\u001b[0m\n\u001b[0;32m----> 1\u001b[0;31m \u001b[0mmodel\u001b[0m\u001b[0;34m.\u001b[0m\u001b[0mpredict\u001b[0m\u001b[0;34m(\u001b[0m\u001b[0mpross_x\u001b[0m\u001b[0;34m)\u001b[0m\u001b[0;34m\u001b[0m\u001b[0;34m\u001b[0m\u001b[0m\n\u001b[0m",
            "\u001b[0;32m/usr/local/lib/python3.10/dist-packages/sklearn/naive_bayes.py\u001b[0m in \u001b[0;36mpredict\u001b[0;34m(self, X)\u001b[0m\n\u001b[1;32m    103\u001b[0m         \"\"\"\n\u001b[1;32m    104\u001b[0m         \u001b[0mcheck_is_fitted\u001b[0m\u001b[0;34m(\u001b[0m\u001b[0mself\u001b[0m\u001b[0;34m)\u001b[0m\u001b[0;34m\u001b[0m\u001b[0;34m\u001b[0m\u001b[0m\n\u001b[0;32m--> 105\u001b[0;31m         \u001b[0mX\u001b[0m \u001b[0;34m=\u001b[0m \u001b[0mself\u001b[0m\u001b[0;34m.\u001b[0m\u001b[0m_check_X\u001b[0m\u001b[0;34m(\u001b[0m\u001b[0mX\u001b[0m\u001b[0;34m)\u001b[0m\u001b[0;34m\u001b[0m\u001b[0;34m\u001b[0m\u001b[0m\n\u001b[0m\u001b[1;32m    106\u001b[0m         \u001b[0mjll\u001b[0m \u001b[0;34m=\u001b[0m \u001b[0mself\u001b[0m\u001b[0;34m.\u001b[0m\u001b[0m_joint_log_likelihood\u001b[0m\u001b[0;34m(\u001b[0m\u001b[0mX\u001b[0m\u001b[0;34m)\u001b[0m\u001b[0;34m\u001b[0m\u001b[0;34m\u001b[0m\u001b[0m\n\u001b[1;32m    107\u001b[0m         \u001b[0;32mreturn\u001b[0m \u001b[0mself\u001b[0m\u001b[0;34m.\u001b[0m\u001b[0mclasses_\u001b[0m\u001b[0;34m[\u001b[0m\u001b[0mnp\u001b[0m\u001b[0;34m.\u001b[0m\u001b[0margmax\u001b[0m\u001b[0;34m(\u001b[0m\u001b[0mjll\u001b[0m\u001b[0;34m,\u001b[0m \u001b[0maxis\u001b[0m\u001b[0;34m=\u001b[0m\u001b[0;36m1\u001b[0m\u001b[0;34m)\u001b[0m\u001b[0;34m]\u001b[0m\u001b[0;34m\u001b[0m\u001b[0;34m\u001b[0m\u001b[0m\n",
            "\u001b[0;32m/usr/local/lib/python3.10/dist-packages/sklearn/naive_bayes.py\u001b[0m in \u001b[0;36m_check_X\u001b[0;34m(self, X)\u001b[0m\n\u001b[1;32m    577\u001b[0m     \u001b[0;32mdef\u001b[0m \u001b[0m_check_X\u001b[0m\u001b[0;34m(\u001b[0m\u001b[0mself\u001b[0m\u001b[0;34m,\u001b[0m \u001b[0mX\u001b[0m\u001b[0;34m)\u001b[0m\u001b[0;34m:\u001b[0m\u001b[0;34m\u001b[0m\u001b[0;34m\u001b[0m\u001b[0m\n\u001b[1;32m    578\u001b[0m         \u001b[0;34m\"\"\"Validate X, used only in predict* methods.\"\"\"\u001b[0m\u001b[0;34m\u001b[0m\u001b[0;34m\u001b[0m\u001b[0m\n\u001b[0;32m--> 579\u001b[0;31m         \u001b[0;32mreturn\u001b[0m \u001b[0mself\u001b[0m\u001b[0;34m.\u001b[0m\u001b[0m_validate_data\u001b[0m\u001b[0;34m(\u001b[0m\u001b[0mX\u001b[0m\u001b[0;34m,\u001b[0m \u001b[0maccept_sparse\u001b[0m\u001b[0;34m=\u001b[0m\u001b[0;34m\"csr\"\u001b[0m\u001b[0;34m,\u001b[0m \u001b[0mreset\u001b[0m\u001b[0;34m=\u001b[0m\u001b[0;32mFalse\u001b[0m\u001b[0;34m)\u001b[0m\u001b[0;34m\u001b[0m\u001b[0;34m\u001b[0m\u001b[0m\n\u001b[0m\u001b[1;32m    580\u001b[0m \u001b[0;34m\u001b[0m\u001b[0m\n\u001b[1;32m    581\u001b[0m     \u001b[0;32mdef\u001b[0m \u001b[0m_check_X_y\u001b[0m\u001b[0;34m(\u001b[0m\u001b[0mself\u001b[0m\u001b[0;34m,\u001b[0m \u001b[0mX\u001b[0m\u001b[0;34m,\u001b[0m \u001b[0my\u001b[0m\u001b[0;34m,\u001b[0m \u001b[0mreset\u001b[0m\u001b[0;34m=\u001b[0m\u001b[0;32mTrue\u001b[0m\u001b[0;34m)\u001b[0m\u001b[0;34m:\u001b[0m\u001b[0;34m\u001b[0m\u001b[0;34m\u001b[0m\u001b[0m\n",
            "\u001b[0;32m/usr/local/lib/python3.10/dist-packages/sklearn/base.py\u001b[0m in \u001b[0;36m_validate_data\u001b[0;34m(self, X, y, reset, validate_separately, **check_params)\u001b[0m\n\u001b[1;32m    563\u001b[0m             \u001b[0;32mraise\u001b[0m \u001b[0mValueError\u001b[0m\u001b[0;34m(\u001b[0m\u001b[0;34m\"Validation should be done on X, y or both.\"\u001b[0m\u001b[0;34m)\u001b[0m\u001b[0;34m\u001b[0m\u001b[0;34m\u001b[0m\u001b[0m\n\u001b[1;32m    564\u001b[0m         \u001b[0;32melif\u001b[0m \u001b[0;32mnot\u001b[0m \u001b[0mno_val_X\u001b[0m \u001b[0;32mand\u001b[0m \u001b[0mno_val_y\u001b[0m\u001b[0;34m:\u001b[0m\u001b[0;34m\u001b[0m\u001b[0;34m\u001b[0m\u001b[0m\n\u001b[0;32m--> 565\u001b[0;31m             \u001b[0mX\u001b[0m \u001b[0;34m=\u001b[0m \u001b[0mcheck_array\u001b[0m\u001b[0;34m(\u001b[0m\u001b[0mX\u001b[0m\u001b[0;34m,\u001b[0m \u001b[0minput_name\u001b[0m\u001b[0;34m=\u001b[0m\u001b[0;34m\"X\"\u001b[0m\u001b[0;34m,\u001b[0m \u001b[0;34m**\u001b[0m\u001b[0mcheck_params\u001b[0m\u001b[0;34m)\u001b[0m\u001b[0;34m\u001b[0m\u001b[0;34m\u001b[0m\u001b[0m\n\u001b[0m\u001b[1;32m    566\u001b[0m             \u001b[0mout\u001b[0m \u001b[0;34m=\u001b[0m \u001b[0mX\u001b[0m\u001b[0;34m\u001b[0m\u001b[0;34m\u001b[0m\u001b[0m\n\u001b[1;32m    567\u001b[0m         \u001b[0;32melif\u001b[0m \u001b[0mno_val_X\u001b[0m \u001b[0;32mand\u001b[0m \u001b[0;32mnot\u001b[0m \u001b[0mno_val_y\u001b[0m\u001b[0;34m:\u001b[0m\u001b[0;34m\u001b[0m\u001b[0;34m\u001b[0m\u001b[0m\n",
            "\u001b[0;32m/usr/local/lib/python3.10/dist-packages/sklearn/utils/validation.py\u001b[0m in \u001b[0;36mcheck_array\u001b[0;34m(array, accept_sparse, accept_large_sparse, dtype, order, copy, force_all_finite, ensure_2d, allow_nd, ensure_min_samples, ensure_min_features, estimator, input_name)\u001b[0m\n\u001b[1;32m    892\u001b[0m             \u001b[0;31m# If input is scalar raise error\u001b[0m\u001b[0;34m\u001b[0m\u001b[0;34m\u001b[0m\u001b[0m\n\u001b[1;32m    893\u001b[0m             \u001b[0;32mif\u001b[0m \u001b[0marray\u001b[0m\u001b[0;34m.\u001b[0m\u001b[0mndim\u001b[0m \u001b[0;34m==\u001b[0m \u001b[0;36m0\u001b[0m\u001b[0;34m:\u001b[0m\u001b[0;34m\u001b[0m\u001b[0;34m\u001b[0m\u001b[0m\n\u001b[0;32m--> 894\u001b[0;31m                 raise ValueError(\n\u001b[0m\u001b[1;32m    895\u001b[0m                     \u001b[0;34m\"Expected 2D array, got scalar array instead:\\narray={}.\\n\"\u001b[0m\u001b[0;34m\u001b[0m\u001b[0;34m\u001b[0m\u001b[0m\n\u001b[1;32m    896\u001b[0m                     \u001b[0;34m\"Reshape your data either using array.reshape(-1, 1) if \"\u001b[0m\u001b[0;34m\u001b[0m\u001b[0;34m\u001b[0m\u001b[0m\n",
            "\u001b[0;31mValueError\u001b[0m: Expected 2D array, got scalar array instead:\narray=roaa.\nReshape your data either using array.reshape(-1, 1) if your data has a single feature or array.reshape(1, -1) if it contains a single sample."
          ]
        }
      ]
    },
    {
      "cell_type": "code",
      "source": [],
      "metadata": {
        "id": "-5e8stTtWKXW"
      },
      "execution_count": null,
      "outputs": []
    },
    {
      "cell_type": "code",
      "execution_count": null,
      "metadata": {
        "colab": {
          "background_save": true
        },
        "id": "LoE8lnPdJ7ti"
      },
      "outputs": [],
      "source": [
        "pipeline = Pipeline([\n",
        "    ('vect', CountVectorizer(max_features=4)),  # You can set max_features here if needed\n",
        "    ('clf', RandomForestClassifier())  # You can specify model parameters here\n",
        "])\n"
      ]
    }
  ],
  "metadata": {
    "colab": {
      "provenance": []
    },
    "kernelspec": {
      "display_name": "Python 3",
      "name": "python3"
    },
    "language_info": {
      "name": "python"
    }
  },
  "nbformat": 4,
  "nbformat_minor": 0
}